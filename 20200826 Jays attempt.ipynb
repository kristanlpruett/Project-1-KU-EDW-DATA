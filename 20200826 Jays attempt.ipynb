{
 "cells": [
  {
   "cell_type": "code",
   "execution_count": 142,
   "metadata": {},
   "outputs": [
    {
     "name": "stdout",
     "output_type": "stream",
     "text": [
      "50073\n"
     ]
    }
   ],
   "source": [
    "import pandas as pd\n",
    "import requests\n",
    "import json\n",
    "import matplotlib as mlt\n",
    "import gmaps\n",
    "from census import Census\n",
    "from us import states\n",
    "import numpy as np\n",
    "\n",
    "\n",
    "census_API = 'ad9e020616792d8cbe0f666089dc3980b9d379e0'\n",
    "\n",
    "c=Census(census_API)\n",
    "\n",
    "#KCMO 311 Dataset\n",
    "path = './Resources/311_Pothole_History.csv'\n",
    "\n",
    "df = pd.DataFrame(pd.read_csv(path))\n",
    "print(len(df))\n",
    "clean_df = df.loc[(df['STATUS']=='RESOL')]\n",
    "df.head(2)\n",
    "clean_df = clean_df[['CASE ID', 'SOURCE', 'CREATION MONTH', 'CREATION YEAR', 'STATUS', 'EXCEEDED EST TIMEFRAME', 'DAYS TO CLOSE', 'ZIP CODE', 'NEIGHBORHOOD']]\n",
    "clean_df.dropna(inplace=True)\n",
    "clean_df['ZIP CODE'] = clean_df['ZIP CODE'].astype(int)\n",
    "clean_df.head(5)\n",
    "clean_df.to_csv('./Resources/PotholeData.csv', index=False)"
   ]
  },
  {
   "cell_type": "code",
   "execution_count": 123,
   "metadata": {},
   "outputs": [
    {
     "data": {
      "text/plain": [
       "array([64133, 64131, 64130, 64119, 64134, 64108, 64113, 64132, 64112,\n",
       "       64146, 64127, 64125, 64149, 64138, 64114, 64145, 64105, 64123,\n",
       "       64110, 64137, 64155, 64109, 64154, 64151, 64124, 64116, 64120,\n",
       "       64139, 64152, 64129, 64158, 64106, 64111, 64128, 64118, 64117,\n",
       "       64136, 64126, 64157, 64156, 64101, 64163, 64153, 64161, 64147,\n",
       "       64167, 64102, 64166, 64165, 64164, 64160, 64068, 64012, 64052,\n",
       "       64030])"
      ]
     },
     "execution_count": 123,
     "metadata": {},
     "output_type": "execute_result"
    }
   ],
   "source": [
    "#Zip code list\n",
    "zip_codes = df['ZIP CODE'].dropna().unique()\n",
    "zip_codes = zip_codes.astype(int)\n",
    "zip_codes"
   ]
  },
  {
   "cell_type": "code",
   "execution_count": 134,
   "metadata": {
    "scrolled": true
   },
   "outputs": [
    {
     "data": {
      "text/html": [
       "<div>\n",
       "<style scoped>\n",
       "    .dataframe tbody tr th:only-of-type {\n",
       "        vertical-align: middle;\n",
       "    }\n",
       "\n",
       "    .dataframe tbody tr th {\n",
       "        vertical-align: top;\n",
       "    }\n",
       "\n",
       "    .dataframe thead th {\n",
       "        text-align: right;\n",
       "    }\n",
       "</style>\n",
       "<table border=\"1\" class=\"dataframe\">\n",
       "  <thead>\n",
       "    <tr style=\"text-align: right;\">\n",
       "      <th></th>\n",
       "      <th>NAME</th>\n",
       "      <th>B19013_001E</th>\n",
       "      <th>B01003_001E</th>\n",
       "      <th>B01002_001E</th>\n",
       "      <th>B19301_001E</th>\n",
       "      <th>B17001_002E</th>\n",
       "      <th>zip code tabulation area</th>\n",
       "    </tr>\n",
       "  </thead>\n",
       "  <tbody>\n",
       "    <tr>\n",
       "      <th>0</th>\n",
       "      <td>ZCTA5 64133</td>\n",
       "      <td>50681.0</td>\n",
       "      <td>35163.0</td>\n",
       "      <td>40.8</td>\n",
       "      <td>26720.0</td>\n",
       "      <td>4690.0</td>\n",
       "      <td>64133</td>\n",
       "    </tr>\n",
       "    <tr>\n",
       "      <th>1</th>\n",
       "      <td>ZCTA5 64131</td>\n",
       "      <td>45688.0</td>\n",
       "      <td>22932.0</td>\n",
       "      <td>37.2</td>\n",
       "      <td>30411.0</td>\n",
       "      <td>4021.0</td>\n",
       "      <td>64131</td>\n",
       "    </tr>\n",
       "    <tr>\n",
       "      <th>2</th>\n",
       "      <td>ZCTA5 64130</td>\n",
       "      <td>31166.0</td>\n",
       "      <td>19996.0</td>\n",
       "      <td>39.3</td>\n",
       "      <td>21925.0</td>\n",
       "      <td>5238.0</td>\n",
       "      <td>64130</td>\n",
       "    </tr>\n",
       "    <tr>\n",
       "      <th>3</th>\n",
       "      <td>ZCTA5 64119</td>\n",
       "      <td>68841.0</td>\n",
       "      <td>27848.0</td>\n",
       "      <td>38.3</td>\n",
       "      <td>33224.0</td>\n",
       "      <td>1785.0</td>\n",
       "      <td>64119</td>\n",
       "    </tr>\n",
       "    <tr>\n",
       "      <th>4</th>\n",
       "      <td>ZCTA5 64134</td>\n",
       "      <td>41543.0</td>\n",
       "      <td>23874.0</td>\n",
       "      <td>31.3</td>\n",
       "      <td>20078.0</td>\n",
       "      <td>5507.0</td>\n",
       "      <td>64134</td>\n",
       "    </tr>\n",
       "  </tbody>\n",
       "</table>\n",
       "</div>"
      ],
      "text/plain": [
       "          NAME  B19013_001E  B01003_001E  B01002_001E  B19301_001E  \\\n",
       "0  ZCTA5 64133      50681.0      35163.0         40.8      26720.0   \n",
       "1  ZCTA5 64131      45688.0      22932.0         37.2      30411.0   \n",
       "2  ZCTA5 64130      31166.0      19996.0         39.3      21925.0   \n",
       "3  ZCTA5 64119      68841.0      27848.0         38.3      33224.0   \n",
       "4  ZCTA5 64134      41543.0      23874.0         31.3      20078.0   \n",
       "\n",
       "   B17001_002E zip code tabulation area  \n",
       "0       4690.0                    64133  \n",
       "1       4021.0                    64131  \n",
       "2       5238.0                    64130  \n",
       "3       1785.0                    64119  \n",
       "4       5507.0                    64134  "
      ]
     },
     "execution_count": 134,
     "metadata": {},
     "output_type": "execute_result"
    }
   ],
   "source": [
    "data = []\n",
    "for ea in zip_codes:\n",
    "    census_data = c.acs5.get((\"NAME\", \"B19013_001E\", \"B01003_001E\", \"B01002_001E\",\"B19301_001E\",\"B17001_002E\"), {'for': 'zip code tabulation area:'+str(ea)})\n",
    "    try:\n",
    "        data.append(census_data[0])\n",
    "    except:\n",
    "        next\n",
    "\n",
    "data = pd.DataFrame(data)\n",
    "data.head()\n"
   ]
  },
  {
   "cell_type": "code",
   "execution_count": 135,
   "metadata": {},
   "outputs": [
    {
     "data": {
      "text/html": [
       "<div>\n",
       "<style scoped>\n",
       "    .dataframe tbody tr th:only-of-type {\n",
       "        vertical-align: middle;\n",
       "    }\n",
       "\n",
       "    .dataframe tbody tr th {\n",
       "        vertical-align: top;\n",
       "    }\n",
       "\n",
       "    .dataframe thead th {\n",
       "        text-align: right;\n",
       "    }\n",
       "</style>\n",
       "<table border=\"1\" class=\"dataframe\">\n",
       "  <thead>\n",
       "    <tr style=\"text-align: right;\">\n",
       "      <th></th>\n",
       "      <th>Zipcode</th>\n",
       "      <th>Household Income</th>\n",
       "      <th>Population</th>\n",
       "      <th>Median Age</th>\n",
       "      <th>Per Capita Income</th>\n",
       "      <th>Poverty Count</th>\n",
       "    </tr>\n",
       "  </thead>\n",
       "  <tbody>\n",
       "    <tr>\n",
       "      <th>0</th>\n",
       "      <td>64133</td>\n",
       "      <td>50681.0</td>\n",
       "      <td>35163.0</td>\n",
       "      <td>40.8</td>\n",
       "      <td>26720.0</td>\n",
       "      <td>4690.0</td>\n",
       "    </tr>\n",
       "    <tr>\n",
       "      <th>1</th>\n",
       "      <td>64131</td>\n",
       "      <td>45688.0</td>\n",
       "      <td>22932.0</td>\n",
       "      <td>37.2</td>\n",
       "      <td>30411.0</td>\n",
       "      <td>4021.0</td>\n",
       "    </tr>\n",
       "    <tr>\n",
       "      <th>2</th>\n",
       "      <td>64130</td>\n",
       "      <td>31166.0</td>\n",
       "      <td>19996.0</td>\n",
       "      <td>39.3</td>\n",
       "      <td>21925.0</td>\n",
       "      <td>5238.0</td>\n",
       "    </tr>\n",
       "    <tr>\n",
       "      <th>3</th>\n",
       "      <td>64119</td>\n",
       "      <td>68841.0</td>\n",
       "      <td>27848.0</td>\n",
       "      <td>38.3</td>\n",
       "      <td>33224.0</td>\n",
       "      <td>1785.0</td>\n",
       "    </tr>\n",
       "    <tr>\n",
       "      <th>4</th>\n",
       "      <td>64134</td>\n",
       "      <td>41543.0</td>\n",
       "      <td>23874.0</td>\n",
       "      <td>31.3</td>\n",
       "      <td>20078.0</td>\n",
       "      <td>5507.0</td>\n",
       "    </tr>\n",
       "  </tbody>\n",
       "</table>\n",
       "</div>"
      ],
      "text/plain": [
       "  Zipcode  Household Income  Population  Median Age  Per Capita Income  \\\n",
       "0   64133           50681.0     35163.0        40.8            26720.0   \n",
       "1   64131           45688.0     22932.0        37.2            30411.0   \n",
       "2   64130           31166.0     19996.0        39.3            21925.0   \n",
       "3   64119           68841.0     27848.0        38.3            33224.0   \n",
       "4   64134           41543.0     23874.0        31.3            20078.0   \n",
       "\n",
       "   Poverty Count  \n",
       "0         4690.0  \n",
       "1         4021.0  \n",
       "2         5238.0  \n",
       "3         1785.0  \n",
       "4         5507.0  "
      ]
     },
     "execution_count": 135,
     "metadata": {},
     "output_type": "execute_result"
    }
   ],
   "source": [
    "# Column Reordering\n",
    "data = data.rename(columns={\"B01003_001E\": \"Population\",\n",
    "                                      \"B01002_001E\": \"Median Age\",\n",
    "                                      \"B19013_001E\": \"Household Income\",\n",
    "                                      \"B19301_001E\": \"Per Capita Income\",\n",
    "                                      \"B17001_002E\": \"Poverty Count\",\n",
    "                                      \"NAME\": \"Name\", \"zip code tabulation area\": \"Zipcode\"})\n",
    "data = data[['Zipcode','Household Income','Population','Median Age', 'Per Capita Income', 'Poverty Count']]\n",
    "data = data.loc[(data['Population']!=0) & (data['Household Income']!=-666666666.0)]\n",
    "data.head()"
   ]
  },
  {
   "cell_type": "code",
   "execution_count": 141,
   "metadata": {
    "scrolled": true
   },
   "outputs": [],
   "source": [
    "data.to_csv('./Resources/CensusData.csv', index=False)"
   ]
  },
  {
   "cell_type": "code",
   "execution_count": 145,
   "metadata": {},
   "outputs": [],
   "source": [
    "ZipCodes = list(data['Zipcode'])\n",
    "ZipCodes = pd.DataFrame(ZipCodes)\n",
    "ZipCodes.to_csv('./Resources/Zipcodes.csv', index = False)"
   ]
  },
  {
   "cell_type": "code",
   "execution_count": null,
   "metadata": {},
   "outputs": [],
   "source": []
  }
 ],
 "metadata": {
  "kernelspec": {
   "display_name": "Python 3",
   "language": "python",
   "name": "python3"
  },
  "language_info": {
   "codemirror_mode": {
    "name": "ipython",
    "version": 3
   },
   "file_extension": ".py",
   "mimetype": "text/x-python",
   "name": "python",
   "nbconvert_exporter": "python",
   "pygments_lexer": "ipython3",
   "version": "3.8.3"
  }
 },
 "nbformat": 4,
 "nbformat_minor": 4
}
