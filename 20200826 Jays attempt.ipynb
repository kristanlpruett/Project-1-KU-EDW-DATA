{
 "cells": [
  {
   "cell_type": "code",
   "execution_count": 1,
   "metadata": {},
   "outputs": [
    {
     "data": {
      "text/html": [
       "<div>\n",
       "<style scoped>\n",
       "    .dataframe tbody tr th:only-of-type {\n",
       "        vertical-align: middle;\n",
       "    }\n",
       "\n",
       "    .dataframe tbody tr th {\n",
       "        vertical-align: top;\n",
       "    }\n",
       "\n",
       "    .dataframe thead th {\n",
       "        text-align: right;\n",
       "    }\n",
       "</style>\n",
       "<table border=\"1\" class=\"dataframe\">\n",
       "  <thead>\n",
       "    <tr style=\"text-align: right;\">\n",
       "      <th></th>\n",
       "      <th>CASE ID</th>\n",
       "      <th>SOURCE</th>\n",
       "      <th>DEPARTMENT</th>\n",
       "      <th>WORK GROUP</th>\n",
       "      <th>REQUEST TYPE</th>\n",
       "      <th>CREATION MONTH</th>\n",
       "      <th>CREATION YEAR</th>\n",
       "      <th>STATUS</th>\n",
       "      <th>EXCEEDED EST TIMEFRAME</th>\n",
       "      <th>CLOSED DATE</th>\n",
       "      <th>...</th>\n",
       "      <th>CLOSED YEAR</th>\n",
       "      <th>DAYS TO CLOSE</th>\n",
       "      <th>STREET ADDRESS</th>\n",
       "      <th>ADDRESS WITH GEOCODE</th>\n",
       "      <th>ZIP CODE</th>\n",
       "      <th>NEIGHBORHOOD</th>\n",
       "      <th>COUNCIL DISTRICT</th>\n",
       "      <th>PARCEL ID NO</th>\n",
       "      <th>LATITUDE</th>\n",
       "      <th>LONGITUDE</th>\n",
       "    </tr>\n",
       "  </thead>\n",
       "  <tbody>\n",
       "    <tr>\n",
       "      <th>0</th>\n",
       "      <td>2019169222</td>\n",
       "      <td>PHONE</td>\n",
       "      <td>Public Works</td>\n",
       "      <td>Public Works-Street and Traffic-District 3</td>\n",
       "      <td>Streets / Roadways / Alleys-Pothole-District 3</td>\n",
       "      <td>9</td>\n",
       "      <td>2019</td>\n",
       "      <td>RESOL</td>\n",
       "      <td>Y</td>\n",
       "      <td>11/7/2019</td>\n",
       "      <td>...</td>\n",
       "      <td>2019.0</td>\n",
       "      <td>48.0</td>\n",
       "      <td>13110 E 57th St</td>\n",
       "      <td>13110 E 57th St64133\\n(39.018605, -94.426046)</td>\n",
       "      <td>64133.0</td>\n",
       "      <td>Blue Vue Hills</td>\n",
       "      <td>5.0</td>\n",
       "      <td>63787</td>\n",
       "      <td>39.018605</td>\n",
       "      <td>-94.426046</td>\n",
       "    </tr>\n",
       "    <tr>\n",
       "      <th>1</th>\n",
       "      <td>2019126105</td>\n",
       "      <td>PHONE</td>\n",
       "      <td>Public Works</td>\n",
       "      <td>Public Works-Street and Traffic-District 3</td>\n",
       "      <td>Streets / Roadways / Alleys-Pothole-District 3</td>\n",
       "      <td>7</td>\n",
       "      <td>2019</td>\n",
       "      <td>RESOL</td>\n",
       "      <td>Y</td>\n",
       "      <td>10/24/2019</td>\n",
       "      <td>...</td>\n",
       "      <td>2019.0</td>\n",
       "      <td>113.0</td>\n",
       "      <td>1420 E 75th Ter</td>\n",
       "      <td>1420 E 75th Ter64131\\n(38.990601, -94.570141)</td>\n",
       "      <td>64131.0</td>\n",
       "      <td>East Meyer 6</td>\n",
       "      <td>5.0</td>\n",
       "      <td>115894</td>\n",
       "      <td>38.990601</td>\n",
       "      <td>-94.570141</td>\n",
       "    </tr>\n",
       "  </tbody>\n",
       "</table>\n",
       "<p>2 rows × 21 columns</p>\n",
       "</div>"
      ],
      "text/plain": [
       "      CASE ID SOURCE    DEPARTMENT  \\\n",
       "0  2019169222  PHONE  Public Works   \n",
       "1  2019126105  PHONE  Public Works   \n",
       "\n",
       "                                   WORK GROUP  \\\n",
       "0  Public Works-Street and Traffic-District 3   \n",
       "1  Public Works-Street and Traffic-District 3   \n",
       "\n",
       "                                     REQUEST TYPE  CREATION MONTH  \\\n",
       "0  Streets / Roadways / Alleys-Pothole-District 3               9   \n",
       "1  Streets / Roadways / Alleys-Pothole-District 3               7   \n",
       "\n",
       "   CREATION YEAR STATUS EXCEEDED EST TIMEFRAME CLOSED DATE  ...  CLOSED YEAR  \\\n",
       "0           2019  RESOL                      Y   11/7/2019  ...       2019.0   \n",
       "1           2019  RESOL                      Y  10/24/2019  ...       2019.0   \n",
       "\n",
       "   DAYS TO CLOSE   STREET ADDRESS  \\\n",
       "0           48.0  13110 E 57th St   \n",
       "1          113.0  1420 E 75th Ter   \n",
       "\n",
       "                            ADDRESS WITH GEOCODE ZIP CODE    NEIGHBORHOOD  \\\n",
       "0  13110 E 57th St64133\\n(39.018605, -94.426046)  64133.0  Blue Vue Hills   \n",
       "1  1420 E 75th Ter64131\\n(38.990601, -94.570141)  64131.0    East Meyer 6   \n",
       "\n",
       "  COUNCIL DISTRICT  PARCEL ID NO   LATITUDE  LONGITUDE  \n",
       "0              5.0         63787  39.018605 -94.426046  \n",
       "1              5.0        115894  38.990601 -94.570141  \n",
       "\n",
       "[2 rows x 21 columns]"
      ]
     },
     "execution_count": 1,
     "metadata": {},
     "output_type": "execute_result"
    }
   ],
   "source": [
    "import pandas as pd\n",
    "import requests\n",
    "import json\n",
    "import matplotlib as mlt\n",
    "import gmaps\n",
    "from census import Census\n",
    "from us import states\n",
    "\n",
    "\n",
    "census_API = 'ad9e020616792d8cbe0f666089dc3980b9d379e0'\n",
    "\n",
    "#KCMO 311 Dataset\n",
    "path = './Resources/311_Pothole_History.csv'\n",
    "\n",
    "df = pd.DataFrame(pd.read_csv(path))\n",
    "df.head(2)\n"
   ]
  },
  {
   "cell_type": "code",
   "execution_count": 5,
   "metadata": {},
   "outputs": [
    {
     "data": {
      "text/plain": [
       "array([64133, 64131, 64130, 64119, 64134, 64108, 64113, 64132, 64112,\n",
       "       64146, 64127, 64125, 64149, 64138, 64114, 64145, 64105, 64123,\n",
       "       64110, 64137, 64155, 64109, 64154, 64151, 64124, 64116, 64120,\n",
       "       64139, 64152, 64129, 64158, 64106, 64111, 64128, 64118, 64117,\n",
       "       64136, 64126, 64157, 64156, 64101, 64163, 64153, 64161, 64147,\n",
       "       64167, 64102, 64166, 64165, 64164, 64160, 64068, 64012, 64052,\n",
       "       64030])"
      ]
     },
     "execution_count": 5,
     "metadata": {},
     "output_type": "execute_result"
    }
   ],
   "source": [
    "#Zip code list\n",
    "zip_codes = df['ZIP CODE'].dropna().unique()\n",
    "zip_codes = zip_codes.astype(int)\n",
    "zip_codes"
   ]
  },
  {
   "cell_type": "code",
   "execution_count": 6,
   "metadata": {
    "scrolled": true
   },
   "outputs": [
    {
     "ename": "NameError",
     "evalue": "name 'c' is not defined",
     "output_type": "error",
     "traceback": [
      "\u001b[1;31m---------------------------------------------------------------------------\u001b[0m",
      "\u001b[1;31mNameError\u001b[0m                                 Traceback (most recent call last)",
      "\u001b[1;32m<ipython-input-6-b8c23b35f26c>\u001b[0m in \u001b[0;36m<module>\u001b[1;34m\u001b[0m\n\u001b[1;32m----> 1\u001b[1;33m \u001b[0mcensus_data\u001b[0m \u001b[1;33m=\u001b[0m \u001b[0mc\u001b[0m\u001b[1;33m.\u001b[0m\u001b[0macs5\u001b[0m\u001b[1;33m.\u001b[0m\u001b[0mget\u001b[0m\u001b[1;33m(\u001b[0m\u001b[1;33m(\u001b[0m\u001b[1;34m\"NAME\"\u001b[0m\u001b[1;33m,\u001b[0m \u001b[1;34m\"B19013_001E\"\u001b[0m\u001b[1;33m,\u001b[0m \u001b[1;34m\"B01003_001E\"\u001b[0m\u001b[1;33m,\u001b[0m \u001b[1;34m\"B01002_001E\"\u001b[0m\u001b[1;33m,\u001b[0m\u001b[1;34m\"B19301_001E\"\u001b[0m\u001b[1;33m,\u001b[0m\u001b[1;34m\"B17001_002E\"\u001b[0m\u001b[1;33m)\u001b[0m\u001b[1;33m,\u001b[0m \u001b[1;33m{\u001b[0m\u001b[1;34m'for'\u001b[0m\u001b[1;33m:\u001b[0m \u001b[1;34m'zip code tabulation area:'\u001b[0m\u001b[1;33m+\u001b[0m\u001b[0mstr\u001b[0m\u001b[1;33m(\u001b[0m\u001b[1;36m66203\u001b[0m\u001b[1;33m)\u001b[0m\u001b[1;33m}\u001b[0m\u001b[1;33m)\u001b[0m\u001b[1;33m\u001b[0m\u001b[1;33m\u001b[0m\u001b[0m\n\u001b[0m\u001b[0;32m      2\u001b[0m \u001b[1;33m\u001b[0m\u001b[0m\n\u001b[0;32m      3\u001b[0m \u001b[1;31m# Convert to DataFrame\u001b[0m\u001b[1;33m\u001b[0m\u001b[1;33m\u001b[0m\u001b[1;33m\u001b[0m\u001b[0m\n\u001b[0;32m      4\u001b[0m \u001b[0mcensus_pd\u001b[0m \u001b[1;33m=\u001b[0m \u001b[0mpd\u001b[0m\u001b[1;33m.\u001b[0m\u001b[0mDataFrame\u001b[0m\u001b[1;33m(\u001b[0m\u001b[0mcensus_data\u001b[0m\u001b[1;33m)\u001b[0m\u001b[1;33m\u001b[0m\u001b[1;33m\u001b[0m\u001b[0m\n\u001b[0;32m      5\u001b[0m \u001b[1;33m\u001b[0m\u001b[0m\n",
      "\u001b[1;31mNameError\u001b[0m: name 'c' is not defined"
     ]
    }
   ],
   "source": [
    "\n",
    "census_data = c.acs5.get((\"NAME\", \"B19013_001E\", \"B01003_001E\", \"B01002_001E\",\"B19301_001E\",\"B17001_002E\"), {'for': 'zip code tabulation area:'+str(66203)})\n",
    "\n",
    "# Convert to DataFrame\n",
    "census_pd = pd.DataFrame(census_data)\n",
    "\n",
    "# Column Reordering\n",
    "census_pd = census_pd.rename(columns={\"B01003_001E\": \"Population\",\n",
    "                                      \"B01002_001E\": \"Median Age\",\n",
    "                                      \"B19013_001E\": \"Household Income\",\n",
    "                                      \"B19301_001E\": \"Per Capita Income\",\n",
    "                                      \"B17001_002E\": \"Poverty Count\",\n",
    "                                      \"NAME\": \"Name\", \"zip code tabulation area\": \"Zipcode\"})\n",
    "\n",
    "# Add in Poverty Rate (Poverty Count / Population)\n",
    "census_pd[\"Poverty Rate\"] = 100 * census_pd[\"Poverty Count\"].astype(int) / census_pd[\"Population\"].astype(int)\n",
    "\n",
    "# Final DataFrame\n",
    "census_pd = census_pd[[\"Zipcode\", \"Population\", \"Median Age\", \"Household Income\",\n",
    "                       \"Per Capita Income\", \"Poverty Count\", \"Poverty Rate\"]]\n",
    "\n",
    "\n",
    "# Visualize\n",
    "print(len(census_pd))\n",
    "census_pd.head()"
   ]
  },
  {
   "cell_type": "code",
   "execution_count": null,
   "metadata": {},
   "outputs": [],
   "source": []
  }
 ],
 "metadata": {
  "kernelspec": {
   "display_name": "Python 3",
   "language": "python",
   "name": "python3"
  },
  "language_info": {
   "codemirror_mode": {
    "name": "ipython",
    "version": 3
   },
   "file_extension": ".py",
   "mimetype": "text/x-python",
   "name": "python",
   "nbconvert_exporter": "python",
   "pygments_lexer": "ipython3",
   "version": "3.8.3"
  }
 },
 "nbformat": 4,
 "nbformat_minor": 4
}
