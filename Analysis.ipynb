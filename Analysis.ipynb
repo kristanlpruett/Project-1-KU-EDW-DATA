{
 "cells": [
  {
   "cell_type": "markdown",
   "metadata": {},
   "source": [
    "# Analysis\n",
    "After reading in the dataset, we'll look at several variable correlations:\n",
    "- Mean Income vs Days to Close\n",
    "- Population vs Days to Close\n",
    "- Number of Complaints vs Days to Close\n",
    "- Number of Complaints vs Median Age\n",
    "\n",
    "We'll proceed with grouped analysis to identify trends using bins and groupby to partition the data. A visual analysis will be provided through heatmaps. Finally, we'll use the gender specific data from the Census to look at correlations between female age groups and the number of complaints, utilizing a scatter plot and bar graph to view possible correlation.\n",
    "\n",
    "Based on the grouped analysis, we'll include one final dataframe of zip codes that fit both \"high complaining\" subgroups, and provide a simple summary statistic table of average stats for zip codes that fit those demographics."
   ]
  },
  {
   "cell_type": "code",
   "execution_count": 1,
   "metadata": {},
   "outputs": [],
   "source": [
    "#import dependencies\n",
    "import pandas as pd\n",
    "import requests\n",
    "import json\n",
    "import matplotlib as plt\n",
    "import matplotlib.pyplot as plt\n",
    "import scipy.stats as st\n",
    "import gmaps\n",
    "from census import Census\n",
    "from us import states\n",
    "import numpy as np\n",
    "from scipy.stats import linregress\n",
    "from config import google_key\n",
    "\n",
    "#Configure gmaps\n",
    "gmaps.configure(api_key=google_key)\n",
    "gmap_url = 'https://maps.googleapis.com/maps/api/geocode/json?address='\n",
    "\n",
    "#CSV files path\n",
    "data_path = './Resources/FullDataSet.csv'\n",
    "\n",
    "#Dataframe creation\n",
    "data_df = pd.read_csv(data_path)"
   ]
  },
  {
   "cell_type": "code",
   "execution_count": 2,
   "metadata": {},
   "outputs": [
    {
     "data": {
      "text/html": [
       "<div>\n",
       "<style scoped>\n",
       "    .dataframe tbody tr th:only-of-type {\n",
       "        vertical-align: middle;\n",
       "    }\n",
       "\n",
       "    .dataframe tbody tr th {\n",
       "        vertical-align: top;\n",
       "    }\n",
       "\n",
       "    .dataframe thead th {\n",
       "        text-align: right;\n",
       "    }\n",
       "</style>\n",
       "<table border=\"1\" class=\"dataframe\">\n",
       "  <thead>\n",
       "    <tr style=\"text-align: right;\">\n",
       "      <th></th>\n",
       "      <th>Zip Code</th>\n",
       "      <th>Population</th>\n",
       "      <th>White Population (%)</th>\n",
       "      <th>Poverty Count</th>\n",
       "      <th>Household Income ($)</th>\n",
       "      <th>Per Capita Income ($)</th>\n",
       "      <th>Median Age</th>\n",
       "      <th>Male Median Age</th>\n",
       "      <th>Female Median Age</th>\n",
       "      <th>Fem. 20-24 (%)</th>\n",
       "      <th>Fem. 25-29 (%)</th>\n",
       "      <th>Fem. 30-34 (%)</th>\n",
       "      <th>Fem. 35-44 (%)</th>\n",
       "      <th>Fem. 45-54 (%)</th>\n",
       "      <th>No. of Complaints</th>\n",
       "      <th>% of Complaints</th>\n",
       "      <th>Most Utilized Source</th>\n",
       "      <th>Avg. Days to Close</th>\n",
       "    </tr>\n",
       "  </thead>\n",
       "  <tbody>\n",
       "    <tr>\n",
       "      <th>0</th>\n",
       "      <td>64133</td>\n",
       "      <td>35163</td>\n",
       "      <td>59.30</td>\n",
       "      <td>4690</td>\n",
       "      <td>50681</td>\n",
       "      <td>26720</td>\n",
       "      <td>40.8</td>\n",
       "      <td>44.1</td>\n",
       "      <td>49.4</td>\n",
       "      <td>1.53</td>\n",
       "      <td>1.79</td>\n",
       "      <td>1.78</td>\n",
       "      <td>3.64</td>\n",
       "      <td>4.54</td>\n",
       "      <td>1767</td>\n",
       "      <td>3.68</td>\n",
       "      <td>PHONE</td>\n",
       "      <td>26.83</td>\n",
       "    </tr>\n",
       "    <tr>\n",
       "      <th>1</th>\n",
       "      <td>64131</td>\n",
       "      <td>22932</td>\n",
       "      <td>51.50</td>\n",
       "      <td>4021</td>\n",
       "      <td>45688</td>\n",
       "      <td>30411</td>\n",
       "      <td>37.2</td>\n",
       "      <td>38.9</td>\n",
       "      <td>43.2</td>\n",
       "      <td>1.87</td>\n",
       "      <td>2.01</td>\n",
       "      <td>3.39</td>\n",
       "      <td>2.50</td>\n",
       "      <td>3.26</td>\n",
       "      <td>4134</td>\n",
       "      <td>8.60</td>\n",
       "      <td>WEB</td>\n",
       "      <td>25.71</td>\n",
       "    </tr>\n",
       "    <tr>\n",
       "      <th>2</th>\n",
       "      <td>64130</td>\n",
       "      <td>19996</td>\n",
       "      <td>7.37</td>\n",
       "      <td>5238</td>\n",
       "      <td>31166</td>\n",
       "      <td>21925</td>\n",
       "      <td>39.3</td>\n",
       "      <td>29.6</td>\n",
       "      <td>29.5</td>\n",
       "      <td>0.40</td>\n",
       "      <td>0.70</td>\n",
       "      <td>0.23</td>\n",
       "      <td>0.77</td>\n",
       "      <td>0.18</td>\n",
       "      <td>2163</td>\n",
       "      <td>4.50</td>\n",
       "      <td>PHONE</td>\n",
       "      <td>23.80</td>\n",
       "    </tr>\n",
       "    <tr>\n",
       "      <th>3</th>\n",
       "      <td>64119</td>\n",
       "      <td>27848</td>\n",
       "      <td>83.75</td>\n",
       "      <td>1785</td>\n",
       "      <td>68841</td>\n",
       "      <td>33224</td>\n",
       "      <td>38.3</td>\n",
       "      <td>39.7</td>\n",
       "      <td>43.2</td>\n",
       "      <td>2.56</td>\n",
       "      <td>3.53</td>\n",
       "      <td>3.44</td>\n",
       "      <td>5.15</td>\n",
       "      <td>6.15</td>\n",
       "      <td>1177</td>\n",
       "      <td>2.45</td>\n",
       "      <td>PHONE</td>\n",
       "      <td>26.79</td>\n",
       "    </tr>\n",
       "    <tr>\n",
       "      <th>4</th>\n",
       "      <td>64134</td>\n",
       "      <td>23874</td>\n",
       "      <td>28.45</td>\n",
       "      <td>5507</td>\n",
       "      <td>41543</td>\n",
       "      <td>20078</td>\n",
       "      <td>31.3</td>\n",
       "      <td>47.1</td>\n",
       "      <td>45.5</td>\n",
       "      <td>0.62</td>\n",
       "      <td>1.19</td>\n",
       "      <td>1.29</td>\n",
       "      <td>1.62</td>\n",
       "      <td>1.61</td>\n",
       "      <td>2533</td>\n",
       "      <td>5.27</td>\n",
       "      <td>WEB</td>\n",
       "      <td>20.01</td>\n",
       "    </tr>\n",
       "  </tbody>\n",
       "</table>\n",
       "</div>"
      ],
      "text/plain": [
       "   Zip Code  Population  White Population (%)  Poverty Count  \\\n",
       "0     64133       35163                 59.30           4690   \n",
       "1     64131       22932                 51.50           4021   \n",
       "2     64130       19996                  7.37           5238   \n",
       "3     64119       27848                 83.75           1785   \n",
       "4     64134       23874                 28.45           5507   \n",
       "\n",
       "   Household Income ($)  Per Capita Income ($)  Median Age  Male Median Age  \\\n",
       "0                 50681                  26720        40.8             44.1   \n",
       "1                 45688                  30411        37.2             38.9   \n",
       "2                 31166                  21925        39.3             29.6   \n",
       "3                 68841                  33224        38.3             39.7   \n",
       "4                 41543                  20078        31.3             47.1   \n",
       "\n",
       "   Female Median Age  Fem. 20-24 (%)  Fem. 25-29 (%)  Fem. 30-34 (%)  \\\n",
       "0               49.4            1.53            1.79            1.78   \n",
       "1               43.2            1.87            2.01            3.39   \n",
       "2               29.5            0.40            0.70            0.23   \n",
       "3               43.2            2.56            3.53            3.44   \n",
       "4               45.5            0.62            1.19            1.29   \n",
       "\n",
       "   Fem. 35-44 (%)  Fem. 45-54 (%)  No. of Complaints  % of Complaints  \\\n",
       "0            3.64            4.54               1767             3.68   \n",
       "1            2.50            3.26               4134             8.60   \n",
       "2            0.77            0.18               2163             4.50   \n",
       "3            5.15            6.15               1177             2.45   \n",
       "4            1.62            1.61               2533             5.27   \n",
       "\n",
       "  Most Utilized Source  Avg. Days to Close  \n",
       "0                PHONE               26.83  \n",
       "1                  WEB               25.71  \n",
       "2                PHONE               23.80  \n",
       "3                PHONE               26.79  \n",
       "4                  WEB               20.01  "
      ]
     },
     "execution_count": 2,
     "metadata": {},
     "output_type": "execute_result"
    }
   ],
   "source": [
    "data_df.head()"
   ]
  },
  {
   "cell_type": "markdown",
   "metadata": {},
   "source": [
    "## Mean Income vs. Days to Close"
   ]
  },
  {
   "cell_type": "code",
   "execution_count": 3,
   "metadata": {},
   "outputs": [
    {
     "data": {
      "image/png": "[encoded data removed]",
      "text/plain": [
       "<Figure size 432x288 with 1 Axes>"
      ]
     },
     "metadata": {
      "needs_background": "light"
     },
     "output_type": "display_data"
    },
    {
     "name": "stdout",
     "output_type": "stream",
     "text": [
      "Correlation: 0.2736934625936768\n"
     ]
    }
   ],
   "source": [
    "#Mean Household Income vs Days to Close\n",
    "mean_income = data_df['Household Income ($)']\n",
    "close_days = data_df['Avg. Days to Close']\n",
    "\n",
    "plt.scatter(mean_income, close_days)\n",
    "plt.xlabel('Mean Household Income')\n",
    "plt.ylabel('Days to Close')\n",
    "plt.title('Mean Household Income vs Days to Close')\n",
    "\n",
    "x_values = mean_income\n",
    "y_values = close_days\n",
    "\n",
    "(slope, intercept, rvalue, pvalue, stderr) = linregress(x_values, y_values)\n",
    "regress_values = x_values * slope + intercept\n",
    "line_eq = \"y = \" + str(round(slope,2)) + \"x + \" + str(round(intercept,2))\n",
    "plt.plot(x_values,regress_values,\"r-\")\n",
    "\n",
    "plt.savefig('./Images/income_v_days_to_close.png')\n",
    "\n",
    "plt.show()\n",
    "correlation = st.pearsonr(mean_income, close_days)\n",
    "print(f\"Correlation: {correlation[0]}\")"
   ]
  },
  {
   "cell_type": "markdown",
   "metadata": {},
   "source": [
    "## Population vs. Days to Close"
   ]
  },
  {
   "cell_type": "code",
   "execution_count": 4,
   "metadata": {},
   "outputs": [
    {
     "data": {
      "image/png": "[encoded data removed]",
      "text/plain": [
       "<Figure size 432x288 with 1 Axes>"
      ]
     },
     "metadata": {
      "needs_background": "light"
     },
     "output_type": "display_data"
    },
    {
     "name": "stdout",
     "output_type": "stream",
     "text": [
      "Correlation: 0.11240716013419295\n"
     ]
    }
   ],
   "source": [
    "#Population vs Days to Close\n",
    "population = data_df['Population']\n",
    "close_days = data_df['Avg. Days to Close']\n",
    "\n",
    "plt.scatter(population, close_days)\n",
    "plt.xlabel('Population')\n",
    "plt.ylabel('Days to Close')\n",
    "plt.title('Population vs Days to Close')\n",
    "\n",
    "x_values = population\n",
    "y_values = close_days\n",
    "\n",
    "(slope, intercept, rvalue, pvalue, stderr) = linregress(x_values, y_values)\n",
    "regress_values = x_values * slope + intercept\n",
    "line_eq = \"y = \" + str(round(slope,2)) + \"x + \" + str(round(intercept,2))\n",
    "plt.plot(x_values,regress_values,\"r-\")\n",
    "\n",
    "plt.savefig('./Images/population_v_days_to_close.png')\n",
    "\n",
    "plt.show()\n",
    "correlation = st.pearsonr(population, close_days)\n",
    "print(f\"Correlation: {correlation[0]}\")"
   ]
  },
  {
   "cell_type": "markdown",
   "metadata": {},
   "source": [
    "## Number of Complaints vs. Days to Close"
   ]
  },
  {
   "cell_type": "code",
   "execution_count": 5,
   "metadata": {},
   "outputs": [
    {
     "data": {
      "image/png": "[encoded data removed]",
      "text/plain": [
       "<Figure size 432x288 with 1 Axes>"
      ]
     },
     "metadata": {
      "needs_background": "light"
     },
     "output_type": "display_data"
    },
    {
     "name": "stdout",
     "output_type": "stream",
     "text": [
      "Correlation: 0.009515665762888016\n"
     ]
    }
   ],
   "source": [
    "#No of Complaints vs Days to Close\n",
    "#Note - pulling columns from groupby_mean and groupby_counts datasets*\n",
    "complaints = data_df['No. of Complaints']\n",
    "close_days = data_df['Avg. Days to Close']\n",
    "\n",
    "\n",
    "plt.scatter(complaints, close_days)\n",
    "plt.xlabel('Number of Complaints')\n",
    "plt.ylabel('Days to Close')\n",
    "plt.title('Number of Complaints vs Days to Close')\n",
    "\n",
    "x_values = complaints\n",
    "y_values = close_days\n",
    "\n",
    "(slope, intercept, rvalue, pvalue, stderr) = linregress(x_values, y_values)\n",
    "regress_values = x_values * slope + intercept\n",
    "line_eq = \"y = \" + str(round(slope,2)) + \"x + \" + str(round(intercept,2))\n",
    "plt.plot(x_values,regress_values,\"r-\")\n",
    "\n",
    "plt.savefig('./Images/no_complaints_v_days_to_close.png')\n",
    "\n",
    "\n",
    "plt.show()\n",
    "correlation = st.pearsonr(complaints, close_days)\n",
    "print(f\"Correlation: {correlation[0]}\")"
   ]
  },
  {
   "cell_type": "markdown",
   "metadata": {},
   "source": [
    "## Number of Complaints vs Median Age"
   ]
  },
  {
   "cell_type": "code",
   "execution_count": 6,
   "metadata": {},
   "outputs": [
    {
     "data": {
      "image/png": "[encoded data removed]",
      "text/plain": [
       "<Figure size 432x288 with 1 Axes>"
      ]
     },
     "metadata": {
      "needs_background": "light"
     },
     "output_type": "display_data"
    },
    {
     "name": "stdout",
     "output_type": "stream",
     "text": [
      "Correlation: -0.13161024526863874\n"
     ]
    }
   ],
   "source": [
    "#No. of Complaints vs. Median Age\n",
    "complaints = data_df['No. of Complaints']\n",
    "median_age = data_df['Median Age']\n",
    "\n",
    "plt.scatter(complaints, median_age)\n",
    "plt.xlabel('Number of Complaints')\n",
    "plt.ylabel('Median Age')\n",
    "plt.title('Number of Complaints vs Median Age')\n",
    "\n",
    "x_values = complaints\n",
    "y_values = median_age\n",
    "\n",
    "(slope, intercept, rvalue, pvalue, stderr) = linregress(x_values, y_values)\n",
    "regress_values = x_values * slope + intercept\n",
    "line_eq = \"y = \" + str(round(slope,2)) + \"x + \" + str(round(intercept,2))\n",
    "plt.plot(x_values,regress_values,\"r-\")\n",
    "\n",
    "plt.savefig('./Images/no_complaints_v_median_age.png')\n",
    "\n",
    "plt.show()\n",
    "\n",
    "correlation = st.pearsonr(complaints, median_age)\n",
    "print(f\"Correlation: {correlation[0]}\")"
   ]
  },
  {
   "cell_type": "markdown",
   "metadata": {},
   "source": [
    "## Grouped Analysis\n",
    "#### Rather than continue to mash variables together, binned data can help identify subsets that may have stronger evidence for our hypothesis.\n",
    "### Median Age Groups"
   ]
  },
  {
   "cell_type": "code",
   "execution_count": 7,
   "metadata": {},
   "outputs": [
    {
     "name": "stdout",
     "output_type": "stream",
     "text": [
      "[19.  28.  29.5 29.8 30.  31.3 31.4 31.5 31.6 32.4 32.8 33.  33.6 34.4\n",
      " 35.  35.3 35.4 35.5 35.7 35.8 35.9 36.2 36.5 36.6 37.2 37.3 38.  38.3\n",
      " 38.6 38.9 39.1 39.3 39.6 39.9 40.1 40.8 40.9 41.3 42.3 42.5 44.9 48.6\n",
      " 49.3 50.3 51.2 61.9]\n"
     ]
    }
   ],
   "source": [
    "# Visualize the range of median ages represented to prepare bin groups\n",
    "median_age_list = data_df[\"Median Age\"].unique()\n",
    "median_age_list.sort()\n",
    "print(median_age_list)"
   ]
  },
  {
   "cell_type": "code",
   "execution_count": 8,
   "metadata": {},
   "outputs": [
    {
     "data": {
      "image/png": "[encoded data removed]",
      "text/plain": [
       "<Figure size 432x288 with 1 Axes>"
      ]
     },
     "metadata": {
      "needs_background": "light"
     },
     "output_type": "display_data"
    }
   ],
   "source": [
    "# Creating median age categories\n",
    "bins = [0,30,40,50,60,70]\n",
    "names = ['<30','30-40','40-50','50-60','60+']\n",
    "\n",
    "data_df['Median Age Group'] = pd.cut(data_df['Median Age'], bins, labels = names, include_lowest=True)\n",
    "\n",
    "#Median Age Groups vs No of Complaints\n",
    "complaints = data_df.groupby(['Median Age Group'])['No. of Complaints'].sum()\n",
    "\n",
    "complaints.plot.bar()\n",
    "plt.xlabel('Age Groups')\n",
    "plt.ylabel('No of Complaints')\n",
    "plt.title('Number of Complaints from Median Age Groups')\n",
    "plt.savefig('./Images/complaints_by_age_bar.png')\n",
    "plt.show()"
   ]
  },
  {
   "cell_type": "markdown",
   "metadata": {},
   "source": [
    "### Household Income Groups"
   ]
  },
  {
   "cell_type": "code",
   "execution_count": 9,
   "metadata": {},
   "outputs": [
    {
     "name": "stdout",
     "output_type": "stream",
     "text": [
      "[  7622  20699  22328  24421  25472  26512  31140  31166  32131  34417\n",
      "  35290  36074  36538  39396  41543  42550  43965  44971  45688  46514\n",
      "  46915  47324  48105  49352  49500  50681  55690  56250  59474  60667\n",
      "  63694  64489  67250  68841  71190  71598  71611  73458  74864  75536\n",
      "  77874  82739  84614  88919 109844 111000 112481 113553 116719 136913\n",
      " 158125]\n"
     ]
    }
   ],
   "source": [
    "# Visualize the range of household incomes represented to prepare bin groups\n",
    "income = data_df['Household Income ($)'].unique()\n",
    "income.sort()\n",
    "print(income)"
   ]
  },
  {
   "cell_type": "code",
   "execution_count": 10,
   "metadata": {},
   "outputs": [
    {
     "data": {
      "image/png": "[encoded data removed]",
      "text/plain": [
       "<Figure size 432x288 with 1 Axes>"
      ]
     },
     "metadata": {
      "needs_background": "light"
     },
     "output_type": "display_data"
    }
   ],
   "source": [
    "# Creating median income group categories\n",
    "bins = [0,20000,40000,60000,80000,100000,120000,140000,160000,180000]\n",
    "names = ['<20k','20-40k','40-60k','60-80k','80-100k','100-120k','120-140k','140-160k','160+']\n",
    "\n",
    "data_df['Household Income Group'] = pd.cut(data_df['Household Income ($)'],bins, labels = names, include_lowest=True)\n",
    "\n",
    "#Household Income Groups vs No of Complaints\n",
    "complaints = data_df.groupby(['Household Income Group'])['No. of Complaints'].sum()\n",
    "\n",
    "complaints.plot.bar()\n",
    "plt.xlabel('Income Groups')\n",
    "plt.ylabel('No of Complaints')\n",
    "plt.title('Number of Complaints from Household Income Groups')\n",
    "plt.xticks(rotation=30)\n",
    "plt.savefig('./Images/income_v_no_complaints.png')\n",
    "plt.show()"
   ]
  },
  {
   "cell_type": "markdown",
   "metadata": {},
   "source": [
    "## Heatmapping\n",
    "#### Using a heatmap can help us geographically identify location-based trends in complaints"
   ]
  },
  {
   "cell_type": "code",
   "execution_count": 11,
   "metadata": {},
   "outputs": [
    {
     "data": {
      "text/html": [
       "<div>\n",
       "<style scoped>\n",
       "    .dataframe tbody tr th:only-of-type {\n",
       "        vertical-align: middle;\n",
       "    }\n",
       "\n",
       "    .dataframe tbody tr th {\n",
       "        vertical-align: top;\n",
       "    }\n",
       "\n",
       "    .dataframe thead th {\n",
       "        text-align: right;\n",
       "    }\n",
       "</style>\n",
       "<table border=\"1\" class=\"dataframe\">\n",
       "  <thead>\n",
       "    <tr style=\"text-align: right;\">\n",
       "      <th></th>\n",
       "      <th>Zip Code</th>\n",
       "      <th>No. of Complaints</th>\n",
       "    </tr>\n",
       "  </thead>\n",
       "  <tbody>\n",
       "    <tr>\n",
       "      <th>0</th>\n",
       "      <td>64114</td>\n",
       "      <td>5066</td>\n",
       "    </tr>\n",
       "    <tr>\n",
       "      <th>1</th>\n",
       "      <td>64131</td>\n",
       "      <td>4134</td>\n",
       "    </tr>\n",
       "    <tr>\n",
       "      <th>2</th>\n",
       "      <td>64134</td>\n",
       "      <td>2533</td>\n",
       "    </tr>\n",
       "    <tr>\n",
       "      <th>3</th>\n",
       "      <td>64113</td>\n",
       "      <td>2467</td>\n",
       "    </tr>\n",
       "    <tr>\n",
       "      <th>4</th>\n",
       "      <td>64132</td>\n",
       "      <td>2384</td>\n",
       "    </tr>\n",
       "    <tr>\n",
       "      <th>5</th>\n",
       "      <td>64130</td>\n",
       "      <td>2163</td>\n",
       "    </tr>\n",
       "    <tr>\n",
       "      <th>6</th>\n",
       "      <td>64111</td>\n",
       "      <td>2125</td>\n",
       "    </tr>\n",
       "    <tr>\n",
       "      <th>7</th>\n",
       "      <td>64133</td>\n",
       "      <td>1767</td>\n",
       "    </tr>\n",
       "    <tr>\n",
       "      <th>8</th>\n",
       "      <td>64110</td>\n",
       "      <td>1749</td>\n",
       "    </tr>\n",
       "    <tr>\n",
       "      <th>9</th>\n",
       "      <td>64112</td>\n",
       "      <td>1514</td>\n",
       "    </tr>\n",
       "  </tbody>\n",
       "</table>\n",
       "</div>"
      ],
      "text/plain": [
       "   Zip Code  No. of Complaints\n",
       "0     64114               5066\n",
       "1     64131               4134\n",
       "2     64134               2533\n",
       "3     64113               2467\n",
       "4     64132               2384\n",
       "5     64130               2163\n",
       "6     64111               2125\n",
       "7     64133               1767\n",
       "8     64110               1749\n",
       "9     64112               1514"
      ]
     },
     "execution_count": 11,
     "metadata": {},
     "output_type": "execute_result"
    }
   ],
   "source": [
    "#Ten highest number of complaints by zip code\n",
    "top_ten = data_df.sort_values('No. of Complaints', ascending=False).head(10)\n",
    "top_ten.reset_index(inplace=True)\n",
    "top_ten[[\"Zip Code\", \"No. of Complaints\"]]"
   ]
  },
  {
   "cell_type": "markdown",
   "metadata": {},
   "source": [
    "### Complaints from the Top 10 Zip Codes"
   ]
  },
  {
   "cell_type": "code",
   "execution_count": 12,
   "metadata": {},
   "outputs": [],
   "source": [
    "# Generating the heatmap weights and locations for the top ten zip codes\n",
    "zip_coords = []\n",
    "\n",
    "for zipcode in top_ten[\"Zip Code\"].tolist():\n",
    "    geo_data = requests.get(gmap_url+str(zipcode)+'&key='+google_key).json()\n",
    "    zip_coords.append({\n",
    "         'lat': geo_data['results'][0]['geometry']['location']['lat'],\n",
    "         'lng': geo_data['results'][0]['geometry']['location']['lng']})\n",
    "locations10 = pd.DataFrame(zip_coords)[['lat','lng']]\n",
    "\n",
    "rating10 = top_ten['No. of Complaints']"
   ]
  },
  {
   "cell_type": "code",
   "execution_count": 13,
   "metadata": {},
   "outputs": [
    {
     "data": {
      "application/vnd.jupyter.widget-view+json": {
       "model_id": "0f90d5b83387430d90b74b612a2e7fd8",
       "version_major": 2,
       "version_minor": 0
      },
      "text/plain": [
       "Figure(layout=FigureLayout(border='1px solid black', height='300px', padding='1px', width='600px'))"
      ]
     },
     "metadata": {},
     "output_type": "display_data"
    }
   ],
   "source": [
    "# Viewing the heatmap\n",
    "layout = {'width': '600px', 'height': '300px', 'border': '1px solid black', 'padding': '1px'}\n",
    "\n",
    "fig1 = gmaps.figure(layout=layout)\n",
    "heat_layer = gmaps.heatmap_layer(locations10, weights=rating10, dissipating = False, max_intensity=5000, point_radius=.03)\n",
    "fig1.add_layer(heat_layer)\n",
    "\n",
    "fig1"
   ]
  },
  {
   "cell_type": "markdown",
   "metadata": {},
   "source": [
    "### Complaints from all Zip Codes"
   ]
  },
  {
   "cell_type": "code",
   "execution_count": 14,
   "metadata": {},
   "outputs": [],
   "source": [
    "# Generating the heatmap weights and locations for every zip code\n",
    "zip_coords = []\n",
    "\n",
    "for zipcode in data_df['Zip Code'].tolist():\n",
    "    geo_data = requests.get(gmap_url+str(zipcode)+'&key='+google_key).json()\n",
    "    zip_coords.append({\n",
    "         'lat': geo_data['results'][0]['geometry']['location']['lat'],\n",
    "         'lng': geo_data['results'][0]['geometry']['location']['lng']})\n",
    "locations_all = pd.DataFrame(zip_coords)[['lat','lng']]\n",
    "\n",
    "rating_all = data_df['No. of Complaints']"
   ]
  },
  {
   "cell_type": "code",
   "execution_count": 15,
   "metadata": {},
   "outputs": [
    {
     "data": {
      "application/vnd.jupyter.widget-view+json": {
       "model_id": "32a778bd10c64daeb8e1e50e00f1f4af",
       "version_major": 2,
       "version_minor": 0
      },
      "text/plain": [
       "Figure(layout=FigureLayout(border='1px solid black', height='300px', padding='1px', width='600px'))"
      ]
     },
     "metadata": {},
     "output_type": "display_data"
    }
   ],
   "source": [
    "# Viewing the heatmap\n",
    "layout = {'width': '600px', 'height': '300px', 'border': '1px solid black', 'padding': '1px'}\n",
    "\n",
    "fig2 = gmaps.figure(layout=layout)\n",
    "heat_layer = gmaps.heatmap_layer(locations_all, weights=rating_all, dissipating = False, max_intensity=5000, point_radius=.03)\n",
    "fig2.add_layer(heat_layer)\n",
    "\n",
    "fig2"
   ]
  },
  {
   "cell_type": "markdown",
   "metadata": {},
   "source": [
    "## Female Age Groups vs Number of Complaints\n",
    "#### Using the Census data on different female age groups, we'll identify a tighter subset of populations (above 10,000) and look at complaints per 1000 persons. Then we'll compare the correlation across the age groups."
   ]
  },
  {
   "cell_type": "code",
   "execution_count": 16,
   "metadata": {},
   "outputs": [
    {
     "data": {
      "text/html": [
       "<div>\n",
       "<style scoped>\n",
       "    .dataframe tbody tr th:only-of-type {\n",
       "        vertical-align: middle;\n",
       "    }\n",
       "\n",
       "    .dataframe tbody tr th {\n",
       "        vertical-align: top;\n",
       "    }\n",
       "\n",
       "    .dataframe thead th {\n",
       "        text-align: right;\n",
       "    }\n",
       "</style>\n",
       "<table border=\"1\" class=\"dataframe\">\n",
       "  <thead>\n",
       "    <tr style=\"text-align: right;\">\n",
       "      <th></th>\n",
       "      <th>Zip Code</th>\n",
       "      <th>Population</th>\n",
       "      <th>Fem. 20-24 (%)</th>\n",
       "      <th>Fem. 25-29 (%)</th>\n",
       "      <th>Fem. 30-34 (%)</th>\n",
       "      <th>Fem. 35-44 (%)</th>\n",
       "      <th>Fem. 45-54 (%)</th>\n",
       "      <th>No. of Complaints</th>\n",
       "      <th>Complaints per 1000</th>\n",
       "    </tr>\n",
       "  </thead>\n",
       "  <tbody>\n",
       "    <tr>\n",
       "      <th>0</th>\n",
       "      <td>64114</td>\n",
       "      <td>24405</td>\n",
       "      <td>1.12</td>\n",
       "      <td>5.46</td>\n",
       "      <td>4.55</td>\n",
       "      <td>4.82</td>\n",
       "      <td>4.59</td>\n",
       "      <td>5066</td>\n",
       "      <td>208</td>\n",
       "    </tr>\n",
       "    <tr>\n",
       "      <th>1</th>\n",
       "      <td>64113</td>\n",
       "      <td>11988</td>\n",
       "      <td>0.80</td>\n",
       "      <td>2.33</td>\n",
       "      <td>4.00</td>\n",
       "      <td>6.11</td>\n",
       "      <td>6.79</td>\n",
       "      <td>2467</td>\n",
       "      <td>206</td>\n",
       "    </tr>\n",
       "    <tr>\n",
       "      <th>2</th>\n",
       "      <td>64131</td>\n",
       "      <td>22932</td>\n",
       "      <td>1.87</td>\n",
       "      <td>2.01</td>\n",
       "      <td>3.39</td>\n",
       "      <td>2.50</td>\n",
       "      <td>3.26</td>\n",
       "      <td>4134</td>\n",
       "      <td>180</td>\n",
       "    </tr>\n",
       "    <tr>\n",
       "      <th>3</th>\n",
       "      <td>64132</td>\n",
       "      <td>14817</td>\n",
       "      <td>0.70</td>\n",
       "      <td>1.47</td>\n",
       "      <td>0.12</td>\n",
       "      <td>0.68</td>\n",
       "      <td>1.19</td>\n",
       "      <td>2384</td>\n",
       "      <td>161</td>\n",
       "    </tr>\n",
       "    <tr>\n",
       "      <th>4</th>\n",
       "      <td>64137</td>\n",
       "      <td>10646</td>\n",
       "      <td>2.51</td>\n",
       "      <td>3.87</td>\n",
       "      <td>3.36</td>\n",
       "      <td>1.92</td>\n",
       "      <td>2.71</td>\n",
       "      <td>1443</td>\n",
       "      <td>136</td>\n",
       "    </tr>\n",
       "  </tbody>\n",
       "</table>\n",
       "</div>"
      ],
      "text/plain": [
       "   Zip Code  Population  Fem. 20-24 (%)  Fem. 25-29 (%)  Fem. 30-34 (%)  \\\n",
       "0     64114       24405            1.12            5.46            4.55   \n",
       "1     64113       11988            0.80            2.33            4.00   \n",
       "2     64131       22932            1.87            2.01            3.39   \n",
       "3     64132       14817            0.70            1.47            0.12   \n",
       "4     64137       10646            2.51            3.87            3.36   \n",
       "\n",
       "   Fem. 35-44 (%)  Fem. 45-54 (%)  No. of Complaints  Complaints per 1000  \n",
       "0            4.82            4.59               5066                  208  \n",
       "1            6.11            6.79               2467                  206  \n",
       "2            2.50            3.26               4134                  180  \n",
       "3            0.68            1.19               2384                  161  \n",
       "4            1.92            2.71               1443                  136  "
      ]
     },
     "execution_count": 16,
     "metadata": {},
     "output_type": "execute_result"
    }
   ],
   "source": [
    "# Trim down the dataframe to zip code, population, complaints, and female age percentages\n",
    "per_thousand = data_df[[\"Zip Code\", \n",
    "                        \"Population\", \n",
    "                        'Fem. 20-24 (%)', \n",
    "                        'Fem. 25-29 (%)',\n",
    "                        'Fem. 30-34 (%)',\n",
    "                        'Fem. 35-44 (%)',\n",
    "                        'Fem. 45-54 (%)',\n",
    "                        'No. of Complaints'\n",
    "                       ]].copy()\n",
    "\n",
    "# Generate a new column of data by calculating complaints per 1000\n",
    "per_thousand['Complaints per 1000'] = round(per_thousand['No. of Complaints'] / (per_thousand['Population'] / 1000), 0).astype(int)\n",
    "per_thousand.sort_values([\"Complaints per 1000\"], ascending=False, inplace=True)\n",
    "\n",
    "# Restrict the dataframe to only larger populations above 10,000\n",
    "per_thousand = per_thousand.loc[per_thousand[\"Population\"] > 10000].reset_index(drop=True)\n",
    "per_thousand.head()"
   ]
  },
  {
   "cell_type": "code",
   "execution_count": 17,
   "metadata": {},
   "outputs": [
    {
     "data": {
      "image/png": "[encoded data removed]",
      "text/plain": [
       "<Figure size 432x288 with 1 Axes>"
      ]
     },
     "metadata": {
      "needs_background": "light"
     },
     "output_type": "display_data"
    }
   ],
   "source": [
    "# Build a single scatter plot with every set of age group percentage points\n",
    "plt.scatter(per_thousand['Complaints per 1000'], per_thousand['Fem. 20-24 (%)'], label='20-24', color='red')\n",
    "plt.scatter(per_thousand['Complaints per 1000'], per_thousand['Fem. 25-29 (%)'], label='25-29', color='green')\n",
    "plt.scatter(per_thousand['Complaints per 1000'], per_thousand['Fem. 30-34 (%)'], label='30-34', color='pink')\n",
    "plt.scatter(per_thousand['Complaints per 1000'], per_thousand['Fem. 35-44 (%)'], label='35-44', color='tan')\n",
    "plt.scatter(per_thousand['Complaints per 1000'], per_thousand['Fem. 45-54 (%)'], label='45-54', color='aqua')\n",
    "\n",
    "plt.title(\"Female Age Groups vs Complaints per 1000\")\n",
    "plt.suptitle(\"(In Areas of High Population--10000+)\")\n",
    "plt.xlabel('Number of Complaints per 1000')\n",
    "plt.ylabel('Percent of Females')\n",
    "plt.legend(title= \"Age Groups\")\n",
    "plt.savefig('./Images/fem_age_groups_v_no_complaints.png')\n",
    "plt.show()"
   ]
  },
  {
   "cell_type": "code",
   "execution_count": 18,
   "metadata": {},
   "outputs": [
    {
     "name": "stdout",
     "output_type": "stream",
     "text": [
      "The correlation for 20-24 (%) is -0.10747959640103681\n",
      "The correlation for 25-29 (%) is 0.15531751193510776\n",
      "The correlation for 30-34 (%) is 0.21186376075220084\n",
      "The correlation for 35-44 (%) is -0.29578872128050593\n",
      "The correlation for 45-54 (%) is -0.322704736064998\n"
     ]
    },
    {
     "data": {
      "image/png": "[encoded data removed]",
      "text/plain": [
       "<Figure size 432x288 with 1 Axes>"
      ]
     },
     "metadata": {
      "needs_background": "light"
     },
     "output_type": "display_data"
    }
   ],
   "source": [
    "# Finding the correlation of age groups vs areas with the highest complaints per 1000 metric\n",
    "fem_age_groups = [\"20-24 (%)\", \n",
    "                  \"25-29 (%)\", \n",
    "                  \"30-34 (%)\", \n",
    "                  \"35-44 (%)\", \n",
    "                  \"45-54 (%)\"]\n",
    "table = []\n",
    "\n",
    "for group in fem_age_groups:\n",
    "    comp_1000 = per_thousand['Complaints per 1000']\n",
    "    percent = per_thousand[\"Fem. \" + group]\n",
    "    correlation = st.pearsonr(comp_1000, percent)\n",
    "    table.append({'Age Group': group,'Correlation':correlation[0]})\n",
    "    print(f\"The correlation for {group} is {correlation[0]}\")\n",
    "table_df = pd.DataFrame(table)\n",
    "\n",
    "# View the correlations in a single bar graph\n",
    "plt.bar(table_df['Age Group'],table_df['Correlation'])\n",
    "plt.title(\"Correlation of Female Age Groups vs Complaints per 1000\")\n",
    "plt.suptitle(\"(In Areas of High Population--10000+)\")\n",
    "plt.xlabel('Female Age Groups')\n",
    "plt.ylabel('Correlation')\n",
    "plt.savefig('./Images/corr_fem_age_groups_v_no_complaints.png')\n",
    "plt.show()"
   ]
  },
  {
   "cell_type": "markdown",
   "metadata": {},
   "source": [
    "## The \"Complainer\" Zipcodes\n",
    "#### Utilizing the earlier charts, we can limit our dataset to only grouped datasets with the highest complaints for those variables. This gives us a dense dataframe that presents some basics of top complaining zip codes from our dataset."
   ]
  },
  {
   "cell_type": "code",
   "execution_count": 19,
   "metadata": {},
   "outputs": [
    {
     "data": {
      "text/html": [
       "<div>\n",
       "<style scoped>\n",
       "    .dataframe tbody tr th:only-of-type {\n",
       "        vertical-align: middle;\n",
       "    }\n",
       "\n",
       "    .dataframe tbody tr th {\n",
       "        vertical-align: top;\n",
       "    }\n",
       "\n",
       "    .dataframe thead th {\n",
       "        text-align: right;\n",
       "    }\n",
       "</style>\n",
       "<table border=\"1\" class=\"dataframe\">\n",
       "  <thead>\n",
       "    <tr style=\"text-align: right;\">\n",
       "      <th></th>\n",
       "      <th>Zip Code</th>\n",
       "      <th>Population</th>\n",
       "      <th>White Population (%)</th>\n",
       "      <th>Poverty Count</th>\n",
       "      <th>Household Income ($)</th>\n",
       "      <th>Per Capita Income ($)</th>\n",
       "      <th>Median Age</th>\n",
       "      <th>Male Median Age</th>\n",
       "      <th>Female Median Age</th>\n",
       "      <th>Fem. 20-24 (%)</th>\n",
       "      <th>...</th>\n",
       "      <th>Fem. 30-34 (%)</th>\n",
       "      <th>Fem. 35-44 (%)</th>\n",
       "      <th>Fem. 45-54 (%)</th>\n",
       "      <th>No. of Complaints</th>\n",
       "      <th>% of Complaints</th>\n",
       "      <th>Most Utilized Source</th>\n",
       "      <th>Avg. Days to Close</th>\n",
       "      <th>Median Age Group</th>\n",
       "      <th>Household Income Group</th>\n",
       "      <th>Complaints per 1000</th>\n",
       "    </tr>\n",
       "  </thead>\n",
       "  <tbody>\n",
       "    <tr>\n",
       "      <th>0</th>\n",
       "      <td>64131</td>\n",
       "      <td>22932</td>\n",
       "      <td>51.50</td>\n",
       "      <td>4021</td>\n",
       "      <td>45688</td>\n",
       "      <td>30411</td>\n",
       "      <td>37.2</td>\n",
       "      <td>38.9</td>\n",
       "      <td>43.2</td>\n",
       "      <td>1.87</td>\n",
       "      <td>...</td>\n",
       "      <td>3.39</td>\n",
       "      <td>2.50</td>\n",
       "      <td>3.26</td>\n",
       "      <td>4134</td>\n",
       "      <td>8.60</td>\n",
       "      <td>WEB</td>\n",
       "      <td>25.71</td>\n",
       "      <td>30-40</td>\n",
       "      <td>40-60k</td>\n",
       "      <td>180</td>\n",
       "    </tr>\n",
       "    <tr>\n",
       "      <th>1</th>\n",
       "      <td>64108</td>\n",
       "      <td>7799</td>\n",
       "      <td>61.70</td>\n",
       "      <td>1590</td>\n",
       "      <td>49500</td>\n",
       "      <td>39759</td>\n",
       "      <td>35.4</td>\n",
       "      <td>35.6</td>\n",
       "      <td>33.8</td>\n",
       "      <td>2.91</td>\n",
       "      <td>...</td>\n",
       "      <td>3.85</td>\n",
       "      <td>3.00</td>\n",
       "      <td>2.81</td>\n",
       "      <td>1342</td>\n",
       "      <td>2.79</td>\n",
       "      <td>PHONE</td>\n",
       "      <td>14.06</td>\n",
       "      <td>30-40</td>\n",
       "      <td>40-60k</td>\n",
       "      <td>172</td>\n",
       "    </tr>\n",
       "    <tr>\n",
       "      <th>2</th>\n",
       "      <td>64137</td>\n",
       "      <td>10646</td>\n",
       "      <td>56.81</td>\n",
       "      <td>1836</td>\n",
       "      <td>47324</td>\n",
       "      <td>23454</td>\n",
       "      <td>31.5</td>\n",
       "      <td>31.6</td>\n",
       "      <td>35.0</td>\n",
       "      <td>2.51</td>\n",
       "      <td>...</td>\n",
       "      <td>3.36</td>\n",
       "      <td>1.92</td>\n",
       "      <td>2.71</td>\n",
       "      <td>1443</td>\n",
       "      <td>3.00</td>\n",
       "      <td>PHONE</td>\n",
       "      <td>22.84</td>\n",
       "      <td>30-40</td>\n",
       "      <td>40-60k</td>\n",
       "      <td>136</td>\n",
       "    </tr>\n",
       "    <tr>\n",
       "      <th>3</th>\n",
       "      <td>64111</td>\n",
       "      <td>17801</td>\n",
       "      <td>78.96</td>\n",
       "      <td>2691</td>\n",
       "      <td>48105</td>\n",
       "      <td>35777</td>\n",
       "      <td>31.4</td>\n",
       "      <td>32.6</td>\n",
       "      <td>30.2</td>\n",
       "      <td>6.06</td>\n",
       "      <td>...</td>\n",
       "      <td>4.38</td>\n",
       "      <td>4.43</td>\n",
       "      <td>3.82</td>\n",
       "      <td>2125</td>\n",
       "      <td>4.42</td>\n",
       "      <td>PHONE</td>\n",
       "      <td>15.00</td>\n",
       "      <td>30-40</td>\n",
       "      <td>40-60k</td>\n",
       "      <td>119</td>\n",
       "    </tr>\n",
       "    <tr>\n",
       "      <th>4</th>\n",
       "      <td>64134</td>\n",
       "      <td>23874</td>\n",
       "      <td>28.45</td>\n",
       "      <td>5507</td>\n",
       "      <td>41543</td>\n",
       "      <td>20078</td>\n",
       "      <td>31.3</td>\n",
       "      <td>47.1</td>\n",
       "      <td>45.5</td>\n",
       "      <td>0.62</td>\n",
       "      <td>...</td>\n",
       "      <td>1.29</td>\n",
       "      <td>1.62</td>\n",
       "      <td>1.61</td>\n",
       "      <td>2533</td>\n",
       "      <td>5.27</td>\n",
       "      <td>WEB</td>\n",
       "      <td>20.01</td>\n",
       "      <td>30-40</td>\n",
       "      <td>40-60k</td>\n",
       "      <td>106</td>\n",
       "    </tr>\n",
       "    <tr>\n",
       "      <th>5</th>\n",
       "      <td>64116</td>\n",
       "      <td>15576</td>\n",
       "      <td>79.08</td>\n",
       "      <td>1662</td>\n",
       "      <td>49352</td>\n",
       "      <td>36730</td>\n",
       "      <td>38.9</td>\n",
       "      <td>38.4</td>\n",
       "      <td>46.0</td>\n",
       "      <td>3.20</td>\n",
       "      <td>...</td>\n",
       "      <td>2.17</td>\n",
       "      <td>3.96</td>\n",
       "      <td>6.05</td>\n",
       "      <td>875</td>\n",
       "      <td>1.82</td>\n",
       "      <td>PHONE</td>\n",
       "      <td>24.09</td>\n",
       "      <td>30-40</td>\n",
       "      <td>40-60k</td>\n",
       "      <td>56</td>\n",
       "    </tr>\n",
       "    <tr>\n",
       "      <th>6</th>\n",
       "      <td>64117</td>\n",
       "      <td>14673</td>\n",
       "      <td>75.99</td>\n",
       "      <td>2530</td>\n",
       "      <td>46514</td>\n",
       "      <td>22841</td>\n",
       "      <td>35.0</td>\n",
       "      <td>36.5</td>\n",
       "      <td>37.3</td>\n",
       "      <td>3.37</td>\n",
       "      <td>...</td>\n",
       "      <td>2.39</td>\n",
       "      <td>6.24</td>\n",
       "      <td>4.44</td>\n",
       "      <td>710</td>\n",
       "      <td>1.48</td>\n",
       "      <td>PHONE</td>\n",
       "      <td>27.99</td>\n",
       "      <td>30-40</td>\n",
       "      <td>40-60k</td>\n",
       "      <td>48</td>\n",
       "    </tr>\n",
       "    <tr>\n",
       "      <th>7</th>\n",
       "      <td>64138</td>\n",
       "      <td>26032</td>\n",
       "      <td>44.48</td>\n",
       "      <td>4334</td>\n",
       "      <td>46915</td>\n",
       "      <td>24402</td>\n",
       "      <td>35.9</td>\n",
       "      <td>40.7</td>\n",
       "      <td>47.4</td>\n",
       "      <td>1.58</td>\n",
       "      <td>...</td>\n",
       "      <td>1.18</td>\n",
       "      <td>2.04</td>\n",
       "      <td>2.80</td>\n",
       "      <td>1178</td>\n",
       "      <td>2.45</td>\n",
       "      <td>PHONE</td>\n",
       "      <td>24.36</td>\n",
       "      <td>30-40</td>\n",
       "      <td>40-60k</td>\n",
       "      <td>45</td>\n",
       "    </tr>\n",
       "    <tr>\n",
       "      <th>8</th>\n",
       "      <td>64118</td>\n",
       "      <td>42706</td>\n",
       "      <td>77.31</td>\n",
       "      <td>5711</td>\n",
       "      <td>55690</td>\n",
       "      <td>27636</td>\n",
       "      <td>35.7</td>\n",
       "      <td>38.4</td>\n",
       "      <td>41.4</td>\n",
       "      <td>1.98</td>\n",
       "      <td>...</td>\n",
       "      <td>3.16</td>\n",
       "      <td>4.86</td>\n",
       "      <td>4.34</td>\n",
       "      <td>1101</td>\n",
       "      <td>2.29</td>\n",
       "      <td>WEB</td>\n",
       "      <td>27.64</td>\n",
       "      <td>30-40</td>\n",
       "      <td>40-60k</td>\n",
       "      <td>26</td>\n",
       "    </tr>\n",
       "    <tr>\n",
       "      <th>9</th>\n",
       "      <td>64030</td>\n",
       "      <td>25150</td>\n",
       "      <td>51.79</td>\n",
       "      <td>3753</td>\n",
       "      <td>44971</td>\n",
       "      <td>23066</td>\n",
       "      <td>32.8</td>\n",
       "      <td>34.9</td>\n",
       "      <td>36.0</td>\n",
       "      <td>2.24</td>\n",
       "      <td>...</td>\n",
       "      <td>2.03</td>\n",
       "      <td>2.56</td>\n",
       "      <td>3.50</td>\n",
       "      <td>2</td>\n",
       "      <td>0.00</td>\n",
       "      <td>PHONE</td>\n",
       "      <td>60.00</td>\n",
       "      <td>30-40</td>\n",
       "      <td>40-60k</td>\n",
       "      <td>0</td>\n",
       "    </tr>\n",
       "  </tbody>\n",
       "</table>\n",
       "<p>10 rows × 21 columns</p>\n",
       "</div>"
      ],
      "text/plain": [
       "   Zip Code  Population  White Population (%)  Poverty Count  \\\n",
       "0     64131       22932                 51.50           4021   \n",
       "1     64108        7799                 61.70           1590   \n",
       "2     64137       10646                 56.81           1836   \n",
       "3     64111       17801                 78.96           2691   \n",
       "4     64134       23874                 28.45           5507   \n",
       "5     64116       15576                 79.08           1662   \n",
       "6     64117       14673                 75.99           2530   \n",
       "7     64138       26032                 44.48           4334   \n",
       "8     64118       42706                 77.31           5711   \n",
       "9     64030       25150                 51.79           3753   \n",
       "\n",
       "   Household Income ($)  Per Capita Income ($)  Median Age  Male Median Age  \\\n",
       "0                 45688                  30411        37.2             38.9   \n",
       "1                 49500                  39759        35.4             35.6   \n",
       "2                 47324                  23454        31.5             31.6   \n",
       "3                 48105                  35777        31.4             32.6   \n",
       "4                 41543                  20078        31.3             47.1   \n",
       "5                 49352                  36730        38.9             38.4   \n",
       "6                 46514                  22841        35.0             36.5   \n",
       "7                 46915                  24402        35.9             40.7   \n",
       "8                 55690                  27636        35.7             38.4   \n",
       "9                 44971                  23066        32.8             34.9   \n",
       "\n",
       "   Female Median Age  Fem. 20-24 (%)  ...  Fem. 30-34 (%)  Fem. 35-44 (%)  \\\n",
       "0               43.2            1.87  ...            3.39            2.50   \n",
       "1               33.8            2.91  ...            3.85            3.00   \n",
       "2               35.0            2.51  ...            3.36            1.92   \n",
       "3               30.2            6.06  ...            4.38            4.43   \n",
       "4               45.5            0.62  ...            1.29            1.62   \n",
       "5               46.0            3.20  ...            2.17            3.96   \n",
       "6               37.3            3.37  ...            2.39            6.24   \n",
       "7               47.4            1.58  ...            1.18            2.04   \n",
       "8               41.4            1.98  ...            3.16            4.86   \n",
       "9               36.0            2.24  ...            2.03            2.56   \n",
       "\n",
       "   Fem. 45-54 (%)  No. of Complaints  % of Complaints  Most Utilized Source  \\\n",
       "0            3.26               4134             8.60                   WEB   \n",
       "1            2.81               1342             2.79                 PHONE   \n",
       "2            2.71               1443             3.00                 PHONE   \n",
       "3            3.82               2125             4.42                 PHONE   \n",
       "4            1.61               2533             5.27                   WEB   \n",
       "5            6.05                875             1.82                 PHONE   \n",
       "6            4.44                710             1.48                 PHONE   \n",
       "7            2.80               1178             2.45                 PHONE   \n",
       "8            4.34               1101             2.29                   WEB   \n",
       "9            3.50                  2             0.00                 PHONE   \n",
       "\n",
       "  Avg. Days to Close  Median Age Group Household Income Group  \\\n",
       "0              25.71             30-40                 40-60k   \n",
       "1              14.06             30-40                 40-60k   \n",
       "2              22.84             30-40                 40-60k   \n",
       "3              15.00             30-40                 40-60k   \n",
       "4              20.01             30-40                 40-60k   \n",
       "5              24.09             30-40                 40-60k   \n",
       "6              27.99             30-40                 40-60k   \n",
       "7              24.36             30-40                 40-60k   \n",
       "8              27.64             30-40                 40-60k   \n",
       "9              60.00             30-40                 40-60k   \n",
       "\n",
       "  Complaints per 1000  \n",
       "0                 180  \n",
       "1                 172  \n",
       "2                 136  \n",
       "3                 119  \n",
       "4                 106  \n",
       "5                  56  \n",
       "6                  48  \n",
       "7                  45  \n",
       "8                  26  \n",
       "9                   0  \n",
       "\n",
       "[10 rows x 21 columns]"
      ]
     },
     "execution_count": 19,
     "metadata": {},
     "output_type": "execute_result"
    }
   ],
   "source": [
    "# Finding the areas of the \"most-complained\" groups\n",
    "mostcomplaint_agegroup = data_df[data_df[\"Median Age Group\"]==\"30-40\"]\n",
    "mostcomplaint_incomegroup = data_df[data_df[\"Household Income Group\"]==\"40-60k\"]\n",
    "mostcomplaint_ageincome = pd.merge(mostcomplaint_agegroup, mostcomplaint_incomegroup)\n",
    "mostcomplaint_ageincome['Complaints per 1000'] = round(mostcomplaint_ageincome['No. of Complaints'] / (mostcomplaint_ageincome['Population'] / 1000), 0).astype(int)\n",
    "mostcomplaint_ageincome.sort_values([\"Complaints per 1000\"], ascending=False, inplace=True)\n",
    "mostcomplaint_ageincome.reset_index(drop=True)"
   ]
  },
  {
   "cell_type": "code",
   "execution_count": 20,
   "metadata": {},
   "outputs": [
    {
     "data": {
      "text/plain": [
       "Zip Code                 64114.000\n",
       "Population               20718.900\n",
       "White Population (%)        60.607\n",
       "Poverty Count             3363.500\n",
       "Household Income ($)     47560.200\n",
       "Per Capita Income ($)    28415.400\n",
       "Median Age                  34.510\n",
       "Male Median Age             37.470\n",
       "Female Median Age           39.580\n",
       "Fem. 20-24 (%)               2.634\n",
       "Fem. 25-29 (%)               3.333\n",
       "Fem. 30-34 (%)               2.720\n",
       "Fem. 35-44 (%)               3.313\n",
       "Fem. 45-54 (%)               3.534\n",
       "No. of Complaints         1544.300\n",
       "% of Complaints              3.212\n",
       "Avg. Days to Close          26.170\n",
       "Complaints per 1000         88.800\n",
       "dtype: float64"
      ]
     },
     "execution_count": 20,
     "metadata": {},
     "output_type": "execute_result"
    }
   ],
   "source": [
    "# The average statistics of the 10 complainers zipcodes (from both high-complaining groups)\n",
    "mostcomplaint_ageincome.mean()"
   ]
  }
 ],
 "metadata": {
  "kernelspec": {
   "display_name": "Python 3",
   "language": "python",
   "name": "python3"
  },
  "language_info": {
   "codemirror_mode": {
    "name": "ipython",
    "version": 3
   },
   "file_extension": ".py",
   "mimetype": "text/x-python",
   "name": "python",
   "nbconvert_exporter": "python",
   "pygments_lexer": "ipython3",
   "version": "3.7.6"
  }
 },
 "nbformat": 4,
 "nbformat_minor": 4
}
