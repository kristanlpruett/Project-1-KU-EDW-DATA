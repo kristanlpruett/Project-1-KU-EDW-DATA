{
 "cells": [
  {
   "cell_type": "code",
   "execution_count": 89,
   "metadata": {},
   "outputs": [],
   "source": [
    "#import dependencies\n",
    "import pandas as pd\n",
    "import requests\n",
    "import json\n",
    "import matplotlib as plt\n",
    "import matplotlib.pyplot as plt\n",
    "import scipy.stats as st\n",
    "import gmaps\n",
    "from census import Census\n",
    "from us import states\n",
    "import numpy as np\n",
    "from scipy.stats import linregress\n",
    "from config import google_key\n",
    "\n",
    "#Configure gmaps\n",
    "gmaps.configure(api_key=google_key)\n",
    "gmap_url = 'https://maps.googleapis.com/maps/api/geocode/json?address='\n",
    "\n",
    "#CSV files paths\n",
    "data_path = './Resources/FullDataSet.csv'\n",
    "# census_path = './Resources/CensusData_Rev1.csv'\n",
    "# potholes_path = './Resources/PotholeData.csv'\n",
    "\n",
    "#Dataframe creation\n",
    "data_df = pd.read_csv(data_path)\n",
    "# census_df = pd.read_csv(census_path)\n",
    "# pot_df = pd.read_csv(potholes_path)\n",
    "# census_df = census_df.rename(columns={'Zipcode':'ZIP CODE'})"
   ]
  },
  {
   "cell_type": "code",
   "execution_count": 166,
   "metadata": {},
   "outputs": [
    {
     "data": {
      "text/html": [
       "<div>\n",
       "<style scoped>\n",
       "    .dataframe tbody tr th:only-of-type {\n",
       "        vertical-align: middle;\n",
       "    }\n",
       "\n",
       "    .dataframe tbody tr th {\n",
       "        vertical-align: top;\n",
       "    }\n",
       "\n",
       "    .dataframe thead th {\n",
       "        text-align: right;\n",
       "    }\n",
       "</style>\n",
       "<table border=\"1\" class=\"dataframe\">\n",
       "  <thead>\n",
       "    <tr style=\"text-align: right;\">\n",
       "      <th></th>\n",
       "      <th>Zip Code</th>\n",
       "      <th>Population</th>\n",
       "      <th>White Population (%)</th>\n",
       "      <th>Poverty Count</th>\n",
       "      <th>Household Income ($)</th>\n",
       "      <th>Per Capita Income ($)</th>\n",
       "      <th>Median Age</th>\n",
       "      <th>Male Median Age</th>\n",
       "      <th>Female Median Age</th>\n",
       "      <th>Fem. 20-24 (%)</th>\n",
       "      <th>Fem. 25-29 (%)</th>\n",
       "      <th>Fem. 30-34 (%)</th>\n",
       "      <th>Fem. 35-44 (%)</th>\n",
       "      <th>Fem. 45-54 (%)</th>\n",
       "      <th>No. of Complaints</th>\n",
       "      <th>% of Complaints</th>\n",
       "      <th>Most Utilized Source</th>\n",
       "      <th>Avg. Days to Close</th>\n",
       "    </tr>\n",
       "  </thead>\n",
       "  <tbody>\n",
       "    <tr>\n",
       "      <th>0</th>\n",
       "      <td>64133</td>\n",
       "      <td>35163</td>\n",
       "      <td>59.30</td>\n",
       "      <td>4690</td>\n",
       "      <td>50681</td>\n",
       "      <td>26720</td>\n",
       "      <td>40.8</td>\n",
       "      <td>44.1</td>\n",
       "      <td>49.4</td>\n",
       "      <td>1.53</td>\n",
       "      <td>1.79</td>\n",
       "      <td>1.78</td>\n",
       "      <td>3.64</td>\n",
       "      <td>4.54</td>\n",
       "      <td>1767</td>\n",
       "      <td>3.68</td>\n",
       "      <td>PHONE</td>\n",
       "      <td>26.83</td>\n",
       "    </tr>\n",
       "    <tr>\n",
       "      <th>1</th>\n",
       "      <td>64131</td>\n",
       "      <td>22932</td>\n",
       "      <td>51.50</td>\n",
       "      <td>4021</td>\n",
       "      <td>45688</td>\n",
       "      <td>30411</td>\n",
       "      <td>37.2</td>\n",
       "      <td>38.9</td>\n",
       "      <td>43.2</td>\n",
       "      <td>1.87</td>\n",
       "      <td>2.01</td>\n",
       "      <td>3.39</td>\n",
       "      <td>2.50</td>\n",
       "      <td>3.26</td>\n",
       "      <td>4134</td>\n",
       "      <td>8.60</td>\n",
       "      <td>WEB</td>\n",
       "      <td>25.71</td>\n",
       "    </tr>\n",
       "    <tr>\n",
       "      <th>2</th>\n",
       "      <td>64130</td>\n",
       "      <td>19996</td>\n",
       "      <td>7.37</td>\n",
       "      <td>5238</td>\n",
       "      <td>31166</td>\n",
       "      <td>21925</td>\n",
       "      <td>39.3</td>\n",
       "      <td>29.6</td>\n",
       "      <td>29.5</td>\n",
       "      <td>0.40</td>\n",
       "      <td>0.70</td>\n",
       "      <td>0.23</td>\n",
       "      <td>0.77</td>\n",
       "      <td>0.18</td>\n",
       "      <td>2163</td>\n",
       "      <td>4.50</td>\n",
       "      <td>PHONE</td>\n",
       "      <td>23.80</td>\n",
       "    </tr>\n",
       "    <tr>\n",
       "      <th>3</th>\n",
       "      <td>64119</td>\n",
       "      <td>27848</td>\n",
       "      <td>83.75</td>\n",
       "      <td>1785</td>\n",
       "      <td>68841</td>\n",
       "      <td>33224</td>\n",
       "      <td>38.3</td>\n",
       "      <td>39.7</td>\n",
       "      <td>43.2</td>\n",
       "      <td>2.56</td>\n",
       "      <td>3.53</td>\n",
       "      <td>3.44</td>\n",
       "      <td>5.15</td>\n",
       "      <td>6.15</td>\n",
       "      <td>1177</td>\n",
       "      <td>2.45</td>\n",
       "      <td>PHONE</td>\n",
       "      <td>26.79</td>\n",
       "    </tr>\n",
       "    <tr>\n",
       "      <th>4</th>\n",
       "      <td>64134</td>\n",
       "      <td>23874</td>\n",
       "      <td>28.45</td>\n",
       "      <td>5507</td>\n",
       "      <td>41543</td>\n",
       "      <td>20078</td>\n",
       "      <td>31.3</td>\n",
       "      <td>47.1</td>\n",
       "      <td>45.5</td>\n",
       "      <td>0.62</td>\n",
       "      <td>1.19</td>\n",
       "      <td>1.29</td>\n",
       "      <td>1.62</td>\n",
       "      <td>1.61</td>\n",
       "      <td>2533</td>\n",
       "      <td>5.27</td>\n",
       "      <td>WEB</td>\n",
       "      <td>20.01</td>\n",
       "    </tr>\n",
       "  </tbody>\n",
       "</table>\n",
       "</div>"
      ],
      "text/plain": [
       "   Zip Code  Population  White Population (%)  Poverty Count  \\\n",
       "0     64133       35163                 59.30           4690   \n",
       "1     64131       22932                 51.50           4021   \n",
       "2     64130       19996                  7.37           5238   \n",
       "3     64119       27848                 83.75           1785   \n",
       "4     64134       23874                 28.45           5507   \n",
       "\n",
       "   Household Income ($)  Per Capita Income ($)  Median Age  Male Median Age  \\\n",
       "0                 50681                  26720        40.8             44.1   \n",
       "1                 45688                  30411        37.2             38.9   \n",
       "2                 31166                  21925        39.3             29.6   \n",
       "3                 68841                  33224        38.3             39.7   \n",
       "4                 41543                  20078        31.3             47.1   \n",
       "\n",
       "   Female Median Age  Fem. 20-24 (%)  Fem. 25-29 (%)  Fem. 30-34 (%)  \\\n",
       "0               49.4            1.53            1.79            1.78   \n",
       "1               43.2            1.87            2.01            3.39   \n",
       "2               29.5            0.40            0.70            0.23   \n",
       "3               43.2            2.56            3.53            3.44   \n",
       "4               45.5            0.62            1.19            1.29   \n",
       "\n",
       "   Fem. 35-44 (%)  Fem. 45-54 (%)  No. of Complaints  % of Complaints  \\\n",
       "0            3.64            4.54               1767             3.68   \n",
       "1            2.50            3.26               4134             8.60   \n",
       "2            0.77            0.18               2163             4.50   \n",
       "3            5.15            6.15               1177             2.45   \n",
       "4            1.62            1.61               2533             5.27   \n",
       "\n",
       "  Most Utilized Source  Avg. Days to Close  \n",
       "0                PHONE               26.83  \n",
       "1                  WEB               25.71  \n",
       "2                PHONE               23.80  \n",
       "3                PHONE               26.79  \n",
       "4                  WEB               20.01  "
      ]
     },
     "execution_count": 166,
     "metadata": {},
     "output_type": "execute_result"
    }
   ],
   "source": [
    "data_df.head()"
   ]
  },
  {
   "cell_type": "markdown",
   "metadata": {},
   "source": [
    "## Mean Income vs. Days to Close"
   ]
  },
  {
   "cell_type": "code",
   "execution_count": 13,
   "metadata": {},
   "outputs": [
    {
     "data": {
      "image/png": "[encoded data removed]",
      "text/plain": [
       "<Figure size 432x288 with 1 Axes>"
      ]
     },
     "metadata": {
      "needs_background": "light"
     },
     "output_type": "display_data"
    },
    {
     "name": "stdout",
     "output_type": "stream",
     "text": [
      "Correlation: 0.2736934625936768\n"
     ]
    }
   ],
   "source": [
    "#Mean Household Income vs Days to Close\n",
    "mean_income = data_df['Household Income ($)']\n",
    "close_days = data_df['Avg. Days to Close']\n",
    "\n",
    "plt.scatter(mean_income, close_days)\n",
    "plt.xlabel('Mean Household Income')\n",
    "plt.ylabel('Days to Close')\n",
    "plt.title('Mean Household Income vs Days to Close')\n",
    "\n",
    "x_values = mean_income\n",
    "y_values = close_days\n",
    "\n",
    "(slope, intercept, rvalue, pvalue, stderr) = linregress(x_values, y_values)\n",
    "regress_values = x_values * slope + intercept\n",
    "line_eq = \"y = \" + str(round(slope,2)) + \"x + \" + str(round(intercept,2))\n",
    "plt.plot(x_values,regress_values,\"r-\")\n",
    "\n",
    "# plt.savefig('./Images/income_v_days_to_close2.png')\n",
    "\n",
    "plt.show()\n",
    "correlation = st.pearsonr(mean_income, close_days)\n",
    "print(f\"Correlation: {correlation[0]}\")"
   ]
  },
  {
   "cell_type": "markdown",
   "metadata": {},
   "source": [
    "## Population vs. Days to Close"
   ]
  },
  {
   "cell_type": "code",
   "execution_count": 14,
   "metadata": {},
   "outputs": [
    {
     "data": {
      "image/png": "[encoded data removed]",
      "text/plain": [
       "<Figure size 432x288 with 1 Axes>"
      ]
     },
     "metadata": {
      "needs_background": "light"
     },
     "output_type": "display_data"
    },
    {
     "name": "stdout",
     "output_type": "stream",
     "text": [
      "Correlation: 0.11240716013419295\n"
     ]
    }
   ],
   "source": [
    "#Population vs Days to Close\n",
    "population = data_df['Population']\n",
    "close_days = data_df['Avg. Days to Close']\n",
    "\n",
    "plt.scatter(population, close_days)\n",
    "plt.xlabel('Population')\n",
    "plt.ylabel('Days to Close')\n",
    "plt.title('Population vs Days to Close')\n",
    "\n",
    "x_values = population\n",
    "y_values = close_days\n",
    "\n",
    "(slope, intercept, rvalue, pvalue, stderr) = linregress(x_values, y_values)\n",
    "regress_values = x_values * slope + intercept\n",
    "line_eq = \"y = \" + str(round(slope,2)) + \"x + \" + str(round(intercept,2))\n",
    "plt.plot(x_values,regress_values,\"r-\")\n",
    "\n",
    "# plt.savefig('./Images/population_v_days_to_close2.png')\n",
    "\n",
    "plt.show()\n",
    "correlation = st.pearsonr(population, close_days)\n",
    "print(f\"Correlation: {correlation[0]}\")"
   ]
  },
  {
   "cell_type": "markdown",
   "metadata": {},
   "source": [
    "## Number of Complaints vs. Days to Close"
   ]
  },
  {
   "cell_type": "code",
   "execution_count": 18,
   "metadata": {},
   "outputs": [
    {
     "data": {
      "image/png": "[encoded data removed]",
      "text/plain": [
       "<Figure size 432x288 with 1 Axes>"
      ]
     },
     "metadata": {
      "needs_background": "light"
     },
     "output_type": "display_data"
    },
    {
     "name": "stdout",
     "output_type": "stream",
     "text": [
      "Correlation: 0.009515665762888016\n"
     ]
    }
   ],
   "source": [
    "#No of Complaints vs Days to Close\n",
    "#Note - pulling columns from groupby_mean and groupby_counts datasets*\n",
    "complaints = data_df['No. of Complaints']\n",
    "close_days = data_df['Avg. Days to Close']\n",
    "\n",
    "\n",
    "plt.scatter(complaints, close_days)\n",
    "plt.xlabel('Number of Complaints')\n",
    "plt.ylabel('Days to Close')\n",
    "plt.title('Number of Complaints vs Days to Close')\n",
    "\n",
    "\n",
    "x_values = complaints\n",
    "y_values = close_days\n",
    "\n",
    "(slope, intercept, rvalue, pvalue, stderr) = linregress(x_values, y_values)\n",
    "regress_values = x_values * slope + intercept\n",
    "line_eq = \"y = \" + str(round(slope,2)) + \"x + \" + str(round(intercept,2))\n",
    "plt.plot(x_values,regress_values,\"r-\")\n",
    "\n",
    "# plt.savefig('./Images/no_complaints_v_days_to_close2.png')\n",
    "\n",
    "\n",
    "plt.show()\n",
    "correlation = st.pearsonr(complaints, close_days)\n",
    "print(f\"Correlation: {correlation[0]}\")"
   ]
  },
  {
   "cell_type": "markdown",
   "metadata": {},
   "source": [
    "## Number of Complaints vs Median Age"
   ]
  },
  {
   "cell_type": "code",
   "execution_count": 23,
   "metadata": {},
   "outputs": [
    {
     "data": {
      "image/png": "[encoded data removed]",
      "text/plain": [
       "<Figure size 432x288 with 1 Axes>"
      ]
     },
     "metadata": {
      "needs_background": "light"
     },
     "output_type": "display_data"
    },
    {
     "name": "stdout",
     "output_type": "stream",
     "text": [
      "Correlation: -0.13161024526863874\n"
     ]
    }
   ],
   "source": [
    "#No. of Complaints vs. Median Age\n",
    "complaints = data_df['No. of Complaints']\n",
    "median_age = data_df['Median Age']\n",
    "\n",
    "plt.scatter(complaints, median_age)\n",
    "plt.xlabel('Number of Complaints')\n",
    "plt.ylabel('Median Age')\n",
    "plt.title('Number of Complaints vs Median Age')\n",
    "\n",
    "x_values = complaints\n",
    "y_values = median_age\n",
    "\n",
    "(slope, intercept, rvalue, pvalue, stderr) = linregress(x_values, y_values)\n",
    "regress_values = x_values * slope + intercept\n",
    "line_eq = \"y = \" + str(round(slope,2)) + \"x + \" + str(round(intercept,2))\n",
    "plt.plot(x_values,regress_values,\"r-\")\n",
    "\n",
    "# plt.savefig('./Images/no_complaints_v_median_age2.png')\n",
    "\n",
    "plt.show()\n",
    "\n",
    "correlation = st.pearsonr(complaints, median_age)\n",
    "print(f\"Correlation: {correlation[0]}\")"
   ]
  },
  {
   "cell_type": "code",
   "execution_count": 31,
   "metadata": {},
   "outputs": [
    {
     "name": "stdout",
     "output_type": "stream",
     "text": [
      "[19.  28.  29.5 29.8 30.  31.3 31.4 31.5 31.6 32.4 32.8 33.  33.6 34.4\n",
      " 35.  35.3 35.4 35.5 35.7 35.8 35.9 36.2 36.5 36.6 37.2 37.3 38.  38.3\n",
      " 38.6 38.9 39.1 39.3 39.6 39.9 40.1 40.8 40.9 41.3 42.3 42.5 44.9 48.6\n",
      " 49.3 50.3 51.2 61.9]\n"
     ]
    }
   ],
   "source": [
    "#\n",
    "median_age_list = data_df[\"Median Age\"].unique()\n",
    "median_age_list.sort()\n",
    "print(median_age_list)"
   ]
  },
  {
   "cell_type": "code",
   "execution_count": 78,
   "metadata": {},
   "outputs": [
    {
     "data": {
      "image/png": "[encoded data removed]",
      "text/plain": [
       "<Figure size 432x288 with 1 Axes>"
      ]
     },
     "metadata": {
      "needs_background": "light"
     },
     "output_type": "display_data"
    }
   ],
   "source": [
    "#Median Age Categories\n",
    "bins = [0,30,40,50,60,70]\n",
    "names = ['<30','30-40','40-50','50-60','60+']\n",
    "\n",
    "data_df['Median Age Group'] = pd.cut(data_df['Median Age'], bins, labels = names, include_lowest=True)\n",
    "\n",
    "#Median Age Groups vs No of Complaints\n",
    "complaints = data_df.groupby(['Median Age Group'])['No. of Complaints'].sum()\n",
    "\n",
    "complaints.plot.bar()\n",
    "plt.xlabel('Age Groups')\n",
    "plt.ylabel('No of Complaints')\n",
    "plt.title('Number of Complaints from Median Age Groups')\n",
    "# plt.savefig('./Images/complaints_by_age_bar2.png')\n",
    "plt.show()"
   ]
  },
  {
   "cell_type": "code",
   "execution_count": 81,
   "metadata": {},
   "outputs": [
    {
     "name": "stdout",
     "output_type": "stream",
     "text": [
      "[  7622  20699  22328  24421  25472  26512  31140  31166  32131  34417\n",
      "  35290  36074  36538  39396  41543  42550  43965  44971  45688  46514\n",
      "  46915  47324  48105  49352  49500  50681  55690  56250  59474  60667\n",
      "  63694  64489  67250  68841  71190  71598  71611  73458  74864  75536\n",
      "  77874  82739  84614  88919 109844 111000 112481 113553 116719 136913\n",
      " 158125]\n"
     ]
    }
   ],
   "source": [
    "#\n",
    "income = data_df['Household Income ($)'].unique()\n",
    "income.sort()\n",
    "print(income)"
   ]
  },
  {
   "cell_type": "code",
   "execution_count": 82,
   "metadata": {},
   "outputs": [
    {
     "data": {
      "image/png": "[encoded data removed]",
      "text/plain": [
       "<Figure size 432x288 with 1 Axes>"
      ]
     },
     "metadata": {
      "needs_background": "light"
     },
     "output_type": "display_data"
    }
   ],
   "source": [
    "# Median Income Groups\n",
    "bins = [0,20000,40000,60000,80000,100000,120000,140000,160000,180000]\n",
    "names = ['<20k','20-40k','40-60k','60-80k','80-100k','100-120k','120-140k','140-160k','160+']\n",
    "\n",
    "data_df['Household Income Group'] = pd.cut(data_df['Household Income ($)'],bins, labels = names, include_lowest=True)\n",
    "\n",
    "#Household Income Groups vs No of Complaints\n",
    "complaints = data_df.groupby(['Household Income Group'])['No. of Complaints'].sum()\n",
    "\n",
    "complaints.plot.bar()\n",
    "plt.xlabel('Income Groups')\n",
    "plt.ylabel('No of Complaints')\n",
    "plt.title('Number of Complaints from Household Income Groups')\n",
    "plt.xticks(rotation=30)\n",
    "# plt.savefig('./Images/income_v_no_complaints2.png')\n",
    "plt.show()"
   ]
  },
  {
   "cell_type": "code",
   "execution_count": 111,
   "metadata": {},
   "outputs": [
    {
     "data": {
      "text/html": [
       "<div>\n",
       "<style scoped>\n",
       "    .dataframe tbody tr th:only-of-type {\n",
       "        vertical-align: middle;\n",
       "    }\n",
       "\n",
       "    .dataframe tbody tr th {\n",
       "        vertical-align: top;\n",
       "    }\n",
       "\n",
       "    .dataframe thead th {\n",
       "        text-align: right;\n",
       "    }\n",
       "</style>\n",
       "<table border=\"1\" class=\"dataframe\">\n",
       "  <thead>\n",
       "    <tr style=\"text-align: right;\">\n",
       "      <th></th>\n",
       "      <th>Zip Code</th>\n",
       "      <th>No. of Complaints</th>\n",
       "      <th>Population</th>\n",
       "    </tr>\n",
       "  </thead>\n",
       "  <tbody>\n",
       "    <tr>\n",
       "      <th>0</th>\n",
       "      <td>64114</td>\n",
       "      <td>5066</td>\n",
       "      <td>24405</td>\n",
       "    </tr>\n",
       "    <tr>\n",
       "      <th>1</th>\n",
       "      <td>64131</td>\n",
       "      <td>4134</td>\n",
       "      <td>22932</td>\n",
       "    </tr>\n",
       "    <tr>\n",
       "      <th>2</th>\n",
       "      <td>64134</td>\n",
       "      <td>2533</td>\n",
       "      <td>23874</td>\n",
       "    </tr>\n",
       "    <tr>\n",
       "      <th>3</th>\n",
       "      <td>64113</td>\n",
       "      <td>2467</td>\n",
       "      <td>11988</td>\n",
       "    </tr>\n",
       "    <tr>\n",
       "      <th>4</th>\n",
       "      <td>64132</td>\n",
       "      <td>2384</td>\n",
       "      <td>14817</td>\n",
       "    </tr>\n",
       "    <tr>\n",
       "      <th>5</th>\n",
       "      <td>64130</td>\n",
       "      <td>2163</td>\n",
       "      <td>19996</td>\n",
       "    </tr>\n",
       "    <tr>\n",
       "      <th>6</th>\n",
       "      <td>64111</td>\n",
       "      <td>2125</td>\n",
       "      <td>17801</td>\n",
       "    </tr>\n",
       "    <tr>\n",
       "      <th>7</th>\n",
       "      <td>64133</td>\n",
       "      <td>1767</td>\n",
       "      <td>35163</td>\n",
       "    </tr>\n",
       "    <tr>\n",
       "      <th>8</th>\n",
       "      <td>64110</td>\n",
       "      <td>1749</td>\n",
       "      <td>17176</td>\n",
       "    </tr>\n",
       "    <tr>\n",
       "      <th>9</th>\n",
       "      <td>64112</td>\n",
       "      <td>1514</td>\n",
       "      <td>8352</td>\n",
       "    </tr>\n",
       "  </tbody>\n",
       "</table>\n",
       "</div>"
      ],
      "text/plain": [
       "   Zip Code  No. of Complaints  Population\n",
       "0     64114               5066       24405\n",
       "1     64131               4134       22932\n",
       "2     64134               2533       23874\n",
       "3     64113               2467       11988\n",
       "4     64132               2384       14817\n",
       "5     64130               2163       19996\n",
       "6     64111               2125       17801\n",
       "7     64133               1767       35163\n",
       "8     64110               1749       17176\n",
       "9     64112               1514        8352"
      ]
     },
     "execution_count": 111,
     "metadata": {},
     "output_type": "execute_result"
    }
   ],
   "source": [
    "#Ten highest number of complaints by zip code\n",
    "top_ten = data_df.sort_values('No. of Complaints', ascending=False).head(10)\n",
    "top_ten.reset_index(inplace=True)\n",
    "top_ten[[\"Zip Code\", \"No. of Complaints\"]]"
   ]
  },
  {
   "cell_type": "code",
   "execution_count": 109,
   "metadata": {},
   "outputs": [],
   "source": [
    "zip_coords = []\n",
    "\n",
    "for zipcode in top_ten[\"Zip Code\"].tolist():\n",
    "    geo_data = requests.get(gmap_url+str(zipcode)+'&key='+google_key).json()\n",
    "    zip_coords.append({\n",
    "         'lat': geo_data['results'][0]['geometry']['location']['lat'],\n",
    "         'lng': geo_data['results'][0]['geometry']['location']['lng']})\n",
    "locations10 = pd.DataFrame(zip_coords)[['lat','lng']]\n",
    "\n",
    "rating10 = top_ten['Population']"
   ]
  },
  {
   "cell_type": "code",
   "execution_count": 113,
   "metadata": {},
   "outputs": [
    {
     "data": {
      "application/vnd.jupyter.widget-view+json": {
       "model_id": "c6ea1c3cdecc461d9e6d37ea64f642fe",
       "version_major": 2,
       "version_minor": 0
      },
      "text/plain": [
       "Figure(layout=FigureLayout(border='1px solid black', height='300px', padding='1px', width='600px'))"
      ]
     },
     "metadata": {},
     "output_type": "display_data"
    }
   ],
   "source": [
    "layout = {'width': '600px', 'height': '300px', 'border': '1px solid black', 'padding': '1px'}\n",
    "\n",
    "fig1 = gmaps.figure(layout=layout)\n",
    "heat_layer = gmaps.heatmap_layer(locations10, weights=rating10, dissipating = False, max_intensity=35000, point_radius=.03)\n",
    "fig1.add_layer(heat_layer)\n",
    "\n",
    "fig1"
   ]
  },
  {
   "cell_type": "code",
   "execution_count": 116,
   "metadata": {},
   "outputs": [],
   "source": [
    "zip_coords = []\n",
    "\n",
    "for zipcode in data_df['Zip Code'].tolist():\n",
    "    geo_data = requests.get(gmap_url+str(zipcode)+'&key='+google_key).json()\n",
    "    zip_coords.append({\n",
    "         'lat': geo_data['results'][0]['geometry']['location']['lat'],\n",
    "         'lng': geo_data['results'][0]['geometry']['location']['lng']})\n",
    "locations_all = pd.DataFrame(zip_coords)[['lat','lng']]\n",
    "\n",
    "rating_all = data_df['No. of Complaints']"
   ]
  },
  {
   "cell_type": "code",
   "execution_count": 118,
   "metadata": {},
   "outputs": [
    {
     "data": {
      "application/vnd.jupyter.widget-view+json": {
       "model_id": "46e6ee25e80f47a89545b0ef4c36ac1a",
       "version_major": 2,
       "version_minor": 0
      },
      "text/plain": [
       "Figure(layout=FigureLayout(border='1px solid black', height='300px', padding='1px', width='600px'))"
      ]
     },
     "metadata": {},
     "output_type": "display_data"
    }
   ],
   "source": [
    "layout = {'width': '600px', 'height': '300px', 'border': '1px solid black', 'padding': '1px'}\n",
    "\n",
    "fig2 = gmaps.figure(layout=layout)\n",
    "heat_layer = gmaps.heatmap_layer(locations_all, weights=rating_all, dissipating = False, max_intensity=5000, point_radius=.03)\n",
    "fig2.add_layer(heat_layer)\n",
    "\n",
    "fig2"
   ]
  },
  {
   "cell_type": "code",
   "execution_count": 151,
   "metadata": {},
   "outputs": [
    {
     "data": {
      "text/html": [
       "<div>\n",
       "<style scoped>\n",
       "    .dataframe tbody tr th:only-of-type {\n",
       "        vertical-align: middle;\n",
       "    }\n",
       "\n",
       "    .dataframe tbody tr th {\n",
       "        vertical-align: top;\n",
       "    }\n",
       "\n",
       "    .dataframe thead th {\n",
       "        text-align: right;\n",
       "    }\n",
       "</style>\n",
       "<table border=\"1\" class=\"dataframe\">\n",
       "  <thead>\n",
       "    <tr style=\"text-align: right;\">\n",
       "      <th></th>\n",
       "      <th>Zip Code</th>\n",
       "      <th>Population</th>\n",
       "      <th>Fem. 20-24 (%)</th>\n",
       "      <th>Fem. 25-29 (%)</th>\n",
       "      <th>Fem. 30-34 (%)</th>\n",
       "      <th>Fem. 35-44 (%)</th>\n",
       "      <th>Fem. 45-54 (%)</th>\n",
       "      <th>No. of Complaints</th>\n",
       "      <th>Complaints per 1000</th>\n",
       "    </tr>\n",
       "  </thead>\n",
       "  <tbody>\n",
       "    <tr>\n",
       "      <th>0</th>\n",
       "      <td>64114</td>\n",
       "      <td>24405</td>\n",
       "      <td>1.12</td>\n",
       "      <td>5.46</td>\n",
       "      <td>4.55</td>\n",
       "      <td>4.82</td>\n",
       "      <td>4.59</td>\n",
       "      <td>5066</td>\n",
       "      <td>208</td>\n",
       "    </tr>\n",
       "    <tr>\n",
       "      <th>1</th>\n",
       "      <td>64113</td>\n",
       "      <td>11988</td>\n",
       "      <td>0.80</td>\n",
       "      <td>2.33</td>\n",
       "      <td>4.00</td>\n",
       "      <td>6.11</td>\n",
       "      <td>6.79</td>\n",
       "      <td>2467</td>\n",
       "      <td>206</td>\n",
       "    </tr>\n",
       "    <tr>\n",
       "      <th>2</th>\n",
       "      <td>64131</td>\n",
       "      <td>22932</td>\n",
       "      <td>1.87</td>\n",
       "      <td>2.01</td>\n",
       "      <td>3.39</td>\n",
       "      <td>2.50</td>\n",
       "      <td>3.26</td>\n",
       "      <td>4134</td>\n",
       "      <td>180</td>\n",
       "    </tr>\n",
       "    <tr>\n",
       "      <th>3</th>\n",
       "      <td>64132</td>\n",
       "      <td>14817</td>\n",
       "      <td>0.70</td>\n",
       "      <td>1.47</td>\n",
       "      <td>0.12</td>\n",
       "      <td>0.68</td>\n",
       "      <td>1.19</td>\n",
       "      <td>2384</td>\n",
       "      <td>161</td>\n",
       "    </tr>\n",
       "    <tr>\n",
       "      <th>4</th>\n",
       "      <td>64137</td>\n",
       "      <td>10646</td>\n",
       "      <td>2.51</td>\n",
       "      <td>3.87</td>\n",
       "      <td>3.36</td>\n",
       "      <td>1.92</td>\n",
       "      <td>2.71</td>\n",
       "      <td>1443</td>\n",
       "      <td>136</td>\n",
       "    </tr>\n",
       "  </tbody>\n",
       "</table>\n",
       "</div>"
      ],
      "text/plain": [
       "   Zip Code  Population  Fem. 20-24 (%)  Fem. 25-29 (%)  Fem. 30-34 (%)  \\\n",
       "0     64114       24405            1.12            5.46            4.55   \n",
       "1     64113       11988            0.80            2.33            4.00   \n",
       "2     64131       22932            1.87            2.01            3.39   \n",
       "3     64132       14817            0.70            1.47            0.12   \n",
       "4     64137       10646            2.51            3.87            3.36   \n",
       "\n",
       "   Fem. 35-44 (%)  Fem. 45-54 (%)  No. of Complaints  Complaints per 1000  \n",
       "0            4.82            4.59               5066                  208  \n",
       "1            6.11            6.79               2467                  206  \n",
       "2            2.50            3.26               4134                  180  \n",
       "3            0.68            1.19               2384                  161  \n",
       "4            1.92            2.71               1443                  136  "
      ]
     },
     "execution_count": 151,
     "metadata": {},
     "output_type": "execute_result"
    }
   ],
   "source": [
    "#Female Age Groups vs No of Complaints\n",
    "\n",
    "per_thousand = data_df[[\"Zip Code\", \n",
    "                        \"Population\", \n",
    "                        'Fem. 20-24 (%)', \n",
    "                        'Fem. 25-29 (%)',\n",
    "                        'Fem. 30-34 (%)',\n",
    "                        'Fem. 35-44 (%)',\n",
    "                        'Fem. 45-54 (%)',\n",
    "                        'No. of Complaints'\n",
    "                       ]].copy()\n",
    "\n",
    "per_thousand['Complaints per 1000'] = round(per_thousand['No. of Complaints'] / (per_thousand['Population'] / 1000), 0).astype(int)\n",
    "per_thousand.sort_values([\"Complaints per 1000\"], ascending=False, inplace=True)\n",
    "\n",
    "per_thousand = per_thousand.loc[per_thousand[\"Population\"] > 10000].reset_index(drop=True)\n",
    "per_thousand.head()"
   ]
  },
  {
   "cell_type": "code",
   "execution_count": 152,
   "metadata": {},
   "outputs": [
    {
     "data": {
      "image/png": "[encoded data removed]",
      "text/plain": [
       "<Figure size 432x288 with 1 Axes>"
      ]
     },
     "metadata": {
      "needs_background": "light"
     },
     "output_type": "display_data"
    }
   ],
   "source": [
    "plt.scatter(per_thousand['Complaints per 1000'], per_thousand['Fem. 20-24 (%)'],color='red')\n",
    "plt.scatter(per_thousand['Complaints per 1000'], per_thousand['Fem. 25-29 (%)'],color='green')\n",
    "plt.scatter(per_thousand['Complaints per 1000'], per_thousand['Fem. 30-34 (%)'],color='pink')\n",
    "plt.scatter(per_thousand['Complaints per 1000'], per_thousand['Fem. 35-44 (%)'],color='tan')\n",
    "plt.scatter(per_thousand['Complaints per 1000'], per_thousand['Fem. 45-54 (%)'],color='aqua')\n",
    "plt.show()"
   ]
  },
  {
   "cell_type": "code",
   "execution_count": 165,
   "metadata": {},
   "outputs": [
    {
     "name": "stdout",
     "output_type": "stream",
     "text": [
      "The correlation for 20-24 (%) is -0.10747959640103681\n",
      "The correlation for 25-29 (%) is 0.15531751193510776\n",
      "The correlation for 30-34 (%) is 0.21186376075220084\n",
      "The correlation for 35-44 (%) is -0.29578872128050593\n",
      "The correlation for 45-54 (%) is -0.322704736064998\n"
     ]
    },
    {
     "data": {
      "image/png": "[encoded data removed]",
      "text/plain": [
       "<Figure size 432x288 with 1 Axes>"
      ]
     },
     "metadata": {
      "needs_background": "light"
     },
     "output_type": "display_data"
    }
   ],
   "source": [
    "#Correlation of age groups vs areas with the highest complaints per 1000 metric\n",
    "fem_age_groups = [\"20-24 (%)\", \n",
    "                  \"25-29 (%)\", \n",
    "                  \"30-34 (%)\", \n",
    "                  \"35-44 (%)\", \n",
    "                  \"45-54 (%)\"]\n",
    "table = []\n",
    "\n",
    "for group in fem_age_groups:\n",
    "    comp_1000 = per_thousand['Complaints per 1000']\n",
    "    percent = per_thousand[\"Fem. \" + group]\n",
    "    correlation = st.pearsonr(comp_1000, percent)\n",
    "    table.append({'Age Group': group,'Correlation':correlation[0]})\n",
    "    print(f\"The correlation for {group} is {correlation[0]}\")\n",
    "    \n",
    "table_df = pd.DataFrame(table)\n",
    "plt.bar(table_df['Age Group'],table_df['Correlation'])\n",
    "plt.title(\"Correlation of Female Age Groups vs Complaints per 1000\")\n",
    "plt.suptitle(\"(In Areas of High Population--10000+)\")\n",
    "plt.xlabel('Female Age Groups')\n",
    "plt.ylabel('Correlation')\n",
    "plt.show()    "
   ]
  }
 ],
 "metadata": {
  "kernelspec": {
   "display_name": "Python 3",
   "language": "python",
   "name": "python3"
  },
  "language_info": {
   "codemirror_mode": {
    "name": "ipython",
    "version": 3
   },
   "file_extension": ".py",
   "mimetype": "text/x-python",
   "name": "python",
   "nbconvert_exporter": "python",
   "pygments_lexer": "ipython3",
   "version": "3.7.6"
  }
 },
 "nbformat": 4,
 "nbformat_minor": 4
}
